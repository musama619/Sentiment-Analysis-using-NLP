{
 "cells": [
  {
   "cell_type": "markdown",
   "metadata": {},
   "source": [
    "# **Sentiment Analysis of Amazon Alexa Reviews**"
   ]
  },
  {
   "cell_type": "markdown",
   "metadata": {},
   "source": [
    "## Load Libraries"
   ]
  },
  {
   "cell_type": "code",
   "execution_count": 1,
   "metadata": {},
   "outputs": [],
   "source": [
    "import pandas as pd\n",
    "import numpy as np\n",
    "import seaborn as sns\n",
    "import matplotlib.pyplot as plt"
   ]
  },
  {
   "cell_type": "code",
   "execution_count": 2,
   "metadata": {},
   "outputs": [],
   "source": [
    "plt.rcParams[\"figure.figsize\"] = (12,7)\n",
    "plt.rcParams[\"axes.labelsize\"] = 15\n"
   ]
  },
  {
   "cell_type": "code",
   "execution_count": 3,
   "metadata": {},
   "outputs": [],
   "source": [
    "data = pd.read_csv('amazon_alexa.tsv', delimiter = '\\t')"
   ]
  },
  {
   "cell_type": "code",
   "execution_count": 4,
   "metadata": {
    "scrolled": false
   },
   "outputs": [
    {
     "data": {
      "text/html": [
       "<div>\n",
       "<style scoped>\n",
       "    .dataframe tbody tr th:only-of-type {\n",
       "        vertical-align: middle;\n",
       "    }\n",
       "\n",
       "    .dataframe tbody tr th {\n",
       "        vertical-align: top;\n",
       "    }\n",
       "\n",
       "    .dataframe thead th {\n",
       "        text-align: right;\n",
       "    }\n",
       "</style>\n",
       "<table border=\"1\" class=\"dataframe\">\n",
       "  <thead>\n",
       "    <tr style=\"text-align: right;\">\n",
       "      <th></th>\n",
       "      <th>rating</th>\n",
       "      <th>date</th>\n",
       "      <th>variation</th>\n",
       "      <th>verified_reviews</th>\n",
       "      <th>feedback</th>\n",
       "    </tr>\n",
       "  </thead>\n",
       "  <tbody>\n",
       "    <tr>\n",
       "      <th>0</th>\n",
       "      <td>5</td>\n",
       "      <td>31-Jul-18</td>\n",
       "      <td>Charcoal Fabric</td>\n",
       "      <td>Love my Echo!</td>\n",
       "      <td>1</td>\n",
       "    </tr>\n",
       "    <tr>\n",
       "      <th>1</th>\n",
       "      <td>5</td>\n",
       "      <td>31-Jul-18</td>\n",
       "      <td>Charcoal Fabric</td>\n",
       "      <td>Loved it!</td>\n",
       "      <td>1</td>\n",
       "    </tr>\n",
       "    <tr>\n",
       "      <th>2</th>\n",
       "      <td>4</td>\n",
       "      <td>31-Jul-18</td>\n",
       "      <td>Walnut Finish</td>\n",
       "      <td>Sometimes while playing a game, you can answer...</td>\n",
       "      <td>1</td>\n",
       "    </tr>\n",
       "    <tr>\n",
       "      <th>3</th>\n",
       "      <td>5</td>\n",
       "      <td>31-Jul-18</td>\n",
       "      <td>Charcoal Fabric</td>\n",
       "      <td>I have had a lot of fun with this thing. My 4 ...</td>\n",
       "      <td>1</td>\n",
       "    </tr>\n",
       "    <tr>\n",
       "      <th>4</th>\n",
       "      <td>5</td>\n",
       "      <td>31-Jul-18</td>\n",
       "      <td>Charcoal Fabric</td>\n",
       "      <td>Music</td>\n",
       "      <td>1</td>\n",
       "    </tr>\n",
       "    <tr>\n",
       "      <th>...</th>\n",
       "      <td>...</td>\n",
       "      <td>...</td>\n",
       "      <td>...</td>\n",
       "      <td>...</td>\n",
       "      <td>...</td>\n",
       "    </tr>\n",
       "    <tr>\n",
       "      <th>3145</th>\n",
       "      <td>5</td>\n",
       "      <td>30-Jul-18</td>\n",
       "      <td>Black  Dot</td>\n",
       "      <td>Perfect for kids, adults and everyone in betwe...</td>\n",
       "      <td>1</td>\n",
       "    </tr>\n",
       "    <tr>\n",
       "      <th>3146</th>\n",
       "      <td>5</td>\n",
       "      <td>30-Jul-18</td>\n",
       "      <td>Black  Dot</td>\n",
       "      <td>Listening to music, searching locations, check...</td>\n",
       "      <td>1</td>\n",
       "    </tr>\n",
       "    <tr>\n",
       "      <th>3147</th>\n",
       "      <td>5</td>\n",
       "      <td>30-Jul-18</td>\n",
       "      <td>Black  Dot</td>\n",
       "      <td>I do love these things, i have them running my...</td>\n",
       "      <td>1</td>\n",
       "    </tr>\n",
       "    <tr>\n",
       "      <th>3148</th>\n",
       "      <td>5</td>\n",
       "      <td>30-Jul-18</td>\n",
       "      <td>White  Dot</td>\n",
       "      <td>Only complaint I have is that the sound qualit...</td>\n",
       "      <td>1</td>\n",
       "    </tr>\n",
       "    <tr>\n",
       "      <th>3149</th>\n",
       "      <td>4</td>\n",
       "      <td>29-Jul-18</td>\n",
       "      <td>Black  Dot</td>\n",
       "      <td>Good</td>\n",
       "      <td>1</td>\n",
       "    </tr>\n",
       "  </tbody>\n",
       "</table>\n",
       "<p>3150 rows × 5 columns</p>\n",
       "</div>"
      ],
      "text/plain": [
       "      rating       date         variation  \\\n",
       "0          5  31-Jul-18  Charcoal Fabric    \n",
       "1          5  31-Jul-18  Charcoal Fabric    \n",
       "2          4  31-Jul-18    Walnut Finish    \n",
       "3          5  31-Jul-18  Charcoal Fabric    \n",
       "4          5  31-Jul-18  Charcoal Fabric    \n",
       "...      ...        ...               ...   \n",
       "3145       5  30-Jul-18        Black  Dot   \n",
       "3146       5  30-Jul-18        Black  Dot   \n",
       "3147       5  30-Jul-18        Black  Dot   \n",
       "3148       5  30-Jul-18        White  Dot   \n",
       "3149       4  29-Jul-18        Black  Dot   \n",
       "\n",
       "                                       verified_reviews  feedback  \n",
       "0                                         Love my Echo!         1  \n",
       "1                                             Loved it!         1  \n",
       "2     Sometimes while playing a game, you can answer...         1  \n",
       "3     I have had a lot of fun with this thing. My 4 ...         1  \n",
       "4                                                 Music         1  \n",
       "...                                                 ...       ...  \n",
       "3145  Perfect for kids, adults and everyone in betwe...         1  \n",
       "3146  Listening to music, searching locations, check...         1  \n",
       "3147  I do love these things, i have them running my...         1  \n",
       "3148  Only complaint I have is that the sound qualit...         1  \n",
       "3149                                               Good         1  \n",
       "\n",
       "[3150 rows x 5 columns]"
      ]
     },
     "execution_count": 4,
     "metadata": {},
     "output_type": "execute_result"
    }
   ],
   "source": [
    "data"
   ]
  },
  {
   "cell_type": "code",
   "execution_count": 5,
   "metadata": {},
   "outputs": [
    {
     "name": "stdout",
     "output_type": "stream",
     "text": [
      "<class 'pandas.core.frame.DataFrame'>\n",
      "RangeIndex: 3150 entries, 0 to 3149\n",
      "Data columns (total 5 columns):\n",
      "rating              3150 non-null int64\n",
      "date                3150 non-null object\n",
      "variation           3150 non-null object\n",
      "verified_reviews    3150 non-null object\n",
      "feedback            3150 non-null int64\n",
      "dtypes: int64(2), object(3)\n",
      "memory usage: 123.2+ KB\n"
     ]
    }
   ],
   "source": [
    "data.info()\n"
   ]
  },
  {
   "cell_type": "markdown",
   "metadata": {},
   "source": [
    "# Explore Dataset"
   ]
  },
  {
   "cell_type": "code",
   "execution_count": 6,
   "metadata": {},
   "outputs": [
    {
     "data": {
      "text/plain": [
       "1    2893\n",
       "0     257\n",
       "Name: feedback, dtype: int64"
      ]
     },
     "execution_count": 6,
     "metadata": {},
     "output_type": "execute_result"
    }
   ],
   "source": [
    "data['feedback'].value_counts() "
   ]
  },
  {
   "cell_type": "code",
   "execution_count": 7,
   "metadata": {
    "scrolled": false
   },
   "outputs": [
    {
     "data": {
      "text/plain": [
       "<matplotlib.axes._subplots.AxesSubplot at 0x2c2c1e32208>"
      ]
     },
     "execution_count": 7,
     "metadata": {},
     "output_type": "execute_result"
    },
    {
     "data": {
      "image/png": "[encoded data removed]",
      "text/plain": [
       "<Figure size 864x504 with 1 Axes>"
      ]
     },
     "metadata": {
      "needs_background": "light"
     },
     "output_type": "display_data"
    }
   ],
   "source": [
    "sns.countplot(data['feedback'])"
   ]
  },
  {
   "cell_type": "markdown",
   "metadata": {},
   "source": [
    "* **In our data most reviews have positive feedback**"
   ]
  },
  {
   "cell_type": "code",
   "execution_count": 8,
   "metadata": {
    "scrolled": true
   },
   "outputs": [
    {
     "data": {
      "text/plain": [
       "5    2286\n",
       "4     455\n",
       "1     161\n",
       "3     152\n",
       "2      96\n",
       "Name: rating, dtype: int64"
      ]
     },
     "execution_count": 8,
     "metadata": {},
     "output_type": "execute_result"
    }
   ],
   "source": [
    "data['rating'].value_counts() "
   ]
  },
  {
   "cell_type": "code",
   "execution_count": 9,
   "metadata": {
    "scrolled": false
   },
   "outputs": [
    {
     "data": {
      "text/plain": [
       "<matplotlib.axes._subplots.AxesSubplot at 0x2c2c23710b8>"
      ]
     },
     "execution_count": 9,
     "metadata": {},
     "output_type": "execute_result"
    },
    {
     "data": {
      "image/png": "[encoded data removed]",
      "text/plain": [
       "<Figure size 864x504 with 1 Axes>"
      ]
     },
     "metadata": {
      "needs_background": "light"
     },
     "output_type": "display_data"
    }
   ],
   "source": [
    "sns.countplot(data['rating'])"
   ]
  },
  {
   "cell_type": "code",
   "execution_count": 10,
   "metadata": {
    "scrolled": false
   },
   "outputs": [
    {
     "data": {
      "text/plain": [
       "<matplotlib.axes._subplots.AxesSubplot at 0x2c2c21f17b8>"
      ]
     },
     "execution_count": 10,
     "metadata": {},
     "output_type": "execute_result"
    },
    {
     "data": {
      "image/png": "[encoded data removed]",
      "text/plain": [
       "<Figure size 864x504 with 1 Axes>"
      ]
     },
     "metadata": {
      "needs_background": "light"
     },
     "output_type": "display_data"
    }
   ],
   "source": [
    "sns.countplot(y = data['variation'])"
   ]
  },
  {
   "cell_type": "code",
   "execution_count": 11,
   "metadata": {},
   "outputs": [
    {
     "data": {
      "image/png": "[encoded data removed]",
      "text/plain": [
       "<Figure size 864x504 with 1 Axes>"
      ]
     },
     "metadata": {
      "needs_background": "light"
     },
     "output_type": "display_data"
    }
   ],
   "source": [
    "sns.barplot(x=data['rating'],  y=data['variation'])\n",
    "plt.show()"
   ]
  },
  {
   "cell_type": "code",
   "execution_count": 12,
   "metadata": {},
   "outputs": [
    {
     "data": {
      "image/png": "[encoded data removed]",
      "text/plain": [
       "<Figure size 864x504 with 1 Axes>"
      ]
     },
     "metadata": {
      "needs_background": "light"
     },
     "output_type": "display_data"
    }
   ],
   "source": [
    "sns.barplot(x=data['feedback'],  y=data['rating'])\n",
    "plt.yticks(ticks=(0, 1, 2, 3, 4, 5))\n",
    "plt.show()"
   ]
  },
  {
   "cell_type": "code",
   "execution_count": 13,
   "metadata": {},
   "outputs": [
    {
     "data": {
      "image/png": "[encoded data removed]",
      "text/plain": [
       "<Figure size 1440x576 with 1 Axes>"
      ]
     },
     "metadata": {
      "needs_background": "light"
     },
     "output_type": "display_data"
    }
   ],
   "source": [
    "plt.figure(figsize=(20, 8))\n",
    "sns.barplot(x=data['variation'],  y=data['feedback'])\n",
    "plt.xticks(rotation=45)\n",
    "plt.show()"
   ]
  },
  {
   "cell_type": "code",
   "execution_count": 14,
   "metadata": {},
   "outputs": [],
   "source": [
    "#create new column named as len\n",
    "\n",
    "data['len'] = data['verified_reviews'].apply(len)"
   ]
  },
  {
   "cell_type": "code",
   "execution_count": 15,
   "metadata": {
    "scrolled": true
   },
   "outputs": [
    {
     "data": {
      "text/html": [
       "<div>\n",
       "<style scoped>\n",
       "    .dataframe tbody tr th:only-of-type {\n",
       "        vertical-align: middle;\n",
       "    }\n",
       "\n",
       "    .dataframe tbody tr th {\n",
       "        vertical-align: top;\n",
       "    }\n",
       "\n",
       "    .dataframe thead th {\n",
       "        text-align: right;\n",
       "    }\n",
       "</style>\n",
       "<table border=\"1\" class=\"dataframe\">\n",
       "  <thead>\n",
       "    <tr style=\"text-align: right;\">\n",
       "      <th></th>\n",
       "      <th>rating</th>\n",
       "      <th>date</th>\n",
       "      <th>variation</th>\n",
       "      <th>verified_reviews</th>\n",
       "      <th>feedback</th>\n",
       "      <th>len</th>\n",
       "    </tr>\n",
       "  </thead>\n",
       "  <tbody>\n",
       "    <tr>\n",
       "      <th>0</th>\n",
       "      <td>5</td>\n",
       "      <td>31-Jul-18</td>\n",
       "      <td>Charcoal Fabric</td>\n",
       "      <td>Love my Echo!</td>\n",
       "      <td>1</td>\n",
       "      <td>13</td>\n",
       "    </tr>\n",
       "    <tr>\n",
       "      <th>1</th>\n",
       "      <td>5</td>\n",
       "      <td>31-Jul-18</td>\n",
       "      <td>Charcoal Fabric</td>\n",
       "      <td>Loved it!</td>\n",
       "      <td>1</td>\n",
       "      <td>9</td>\n",
       "    </tr>\n",
       "    <tr>\n",
       "      <th>2</th>\n",
       "      <td>4</td>\n",
       "      <td>31-Jul-18</td>\n",
       "      <td>Walnut Finish</td>\n",
       "      <td>Sometimes while playing a game, you can answer...</td>\n",
       "      <td>1</td>\n",
       "      <td>195</td>\n",
       "    </tr>\n",
       "    <tr>\n",
       "      <th>3</th>\n",
       "      <td>5</td>\n",
       "      <td>31-Jul-18</td>\n",
       "      <td>Charcoal Fabric</td>\n",
       "      <td>I have had a lot of fun with this thing. My 4 ...</td>\n",
       "      <td>1</td>\n",
       "      <td>172</td>\n",
       "    </tr>\n",
       "    <tr>\n",
       "      <th>4</th>\n",
       "      <td>5</td>\n",
       "      <td>31-Jul-18</td>\n",
       "      <td>Charcoal Fabric</td>\n",
       "      <td>Music</td>\n",
       "      <td>1</td>\n",
       "      <td>5</td>\n",
       "    </tr>\n",
       "  </tbody>\n",
       "</table>\n",
       "</div>"
      ],
      "text/plain": [
       "   rating       date         variation  \\\n",
       "0       5  31-Jul-18  Charcoal Fabric    \n",
       "1       5  31-Jul-18  Charcoal Fabric    \n",
       "2       4  31-Jul-18    Walnut Finish    \n",
       "3       5  31-Jul-18  Charcoal Fabric    \n",
       "4       5  31-Jul-18  Charcoal Fabric    \n",
       "\n",
       "                                    verified_reviews  feedback  len  \n",
       "0                                      Love my Echo!         1   13  \n",
       "1                                          Loved it!         1    9  \n",
       "2  Sometimes while playing a game, you can answer...         1  195  \n",
       "3  I have had a lot of fun with this thing. My 4 ...         1  172  \n",
       "4                                              Music         1    5  "
      ]
     },
     "execution_count": 15,
     "metadata": {},
     "output_type": "execute_result"
    }
   ],
   "source": [
    "data.head()"
   ]
  },
  {
   "cell_type": "code",
   "execution_count": 16,
   "metadata": {},
   "outputs": [
    {
     "data": {
      "text/plain": [
       "2851"
      ]
     },
     "execution_count": 16,
     "metadata": {},
     "output_type": "execute_result"
    }
   ],
   "source": [
    "#review the maximum length review\n",
    "\n",
    "data['len'].max()"
   ]
  },
  {
   "cell_type": "code",
   "execution_count": 17,
   "metadata": {
    "scrolled": true
   },
   "outputs": [
    {
     "data": {
      "text/html": [
       "<div>\n",
       "<style scoped>\n",
       "    .dataframe tbody tr th:only-of-type {\n",
       "        vertical-align: middle;\n",
       "    }\n",
       "\n",
       "    .dataframe tbody tr th {\n",
       "        vertical-align: top;\n",
       "    }\n",
       "\n",
       "    .dataframe thead th {\n",
       "        text-align: right;\n",
       "    }\n",
       "</style>\n",
       "<table border=\"1\" class=\"dataframe\">\n",
       "  <thead>\n",
       "    <tr style=\"text-align: right;\">\n",
       "      <th></th>\n",
       "      <th>rating</th>\n",
       "      <th>date</th>\n",
       "      <th>variation</th>\n",
       "      <th>verified_reviews</th>\n",
       "      <th>feedback</th>\n",
       "      <th>len</th>\n",
       "    </tr>\n",
       "  </thead>\n",
       "  <tbody>\n",
       "    <tr>\n",
       "      <th>2016</th>\n",
       "      <td>5</td>\n",
       "      <td>20-Jul-18</td>\n",
       "      <td>Black  Plus</td>\n",
       "      <td>Incredible piece of technology.I have this rig...</td>\n",
       "      <td>1</td>\n",
       "      <td>2851</td>\n",
       "    </tr>\n",
       "  </tbody>\n",
       "</table>\n",
       "</div>"
      ],
      "text/plain": [
       "      rating       date    variation  \\\n",
       "2016       5  20-Jul-18  Black  Plus   \n",
       "\n",
       "                                       verified_reviews  feedback   len  \n",
       "2016  Incredible piece of technology.I have this rig...         1  2851  "
      ]
     },
     "execution_count": 17,
     "metadata": {},
     "output_type": "execute_result"
    }
   ],
   "source": [
    "data[data['len']==2851]"
   ]
  },
  {
   "cell_type": "markdown",
   "metadata": {},
   "source": [
    "* **Interesting to say that the biggest review message is a positive feedback**"
   ]
  },
  {
   "cell_type": "code",
   "execution_count": 18,
   "metadata": {},
   "outputs": [
    {
     "data": {
      "text/plain": [
       "\"Incredible piece of technology.I have this right center of my living room on an island kitchen counter. The mic and speaker goes in every direction and the quality of the sound is quite good. I connected the Echo via Bluetooth to my Sony soundbar on my TV but find the Echo placement and 360 sound more appealing. It's no audiophile equipment but there is good range and decent bass. The sound is more than adequate for any indoor entertaining and loud enough to bother neighbors in my building. The knob on the top works great for adjusting volume. This is my first Echo device and I would imagine having to press volume buttons (on the Echo 2) a large inconvenience and not as precise. For that alone I would recommend this over the regular Echo (2nd generation).The piece looks quality and is quite sturdy with some weight on it. The rubber material on the bottom has a good grip on the granite counter-- my cat can even rub her scent on it without tipping it over.This order came with a free Philips Hue Bulb which I installed along with an extra one I bought. I put the 2 bulbs into my living room floor lamp, turned on the light, and all I had to do was say &#34;Alexa, connect my devices&#34;. The default names for each bulb was assigned as &#34;First light&#34; and &#34;Second light&#34;, so I can have a dimmer floor lamp if I just turned on/off one of the lights by saying &#34;Alexa, turn off the second light&#34;. In the Alexa app, I created a 'Group' with &#34;First light&#34; and &#34;Second light&#34; and named the group &#34;The light&#34;, so to turn on the lamp with both bulbs shining I just say &#34;Alexa, turn on The light&#34;.I was surprised how easily the bulbs connected to the Echo Plus with its built in hub. I thought I would have to buy a hub bridge to connect to my floor lamp power plug. Apparently there is some technology built directly inside the bulb! I was surprised by that. Awesome.You will feel like Tony Stark on this device. I added quite a few &#34;Skills&#34; like 'Thunderstorm sounds' and 'Quote of the day' . Alexa always loads them up quickly. Adding songs that you hear to specific playlists on Amazon Music is also a great feature.I can go on and on and this is only my second day of ownership.I was lucky to buy this for $100 on Prime Day, but I think for $150 is it pretty expensive considering the Echo 2 is only $100. In my opinion, you will be paying a premium for the Echo Plus and you have to decide if the value is there for you:1) Taller and 360 sound unit.2) Volume knob on top that you spin (I think this is a huge benefit over buttons)3) Built in hub for Hue bulbs. After researching more, there are some cons to this setup if you plan on having more advanced light setups. For me and my floor lamp, it's just perfect.I highly recommend it and will buy an Echo dot for my bedroom now.\""
      ]
     },
     "execution_count": 18,
     "metadata": {},
     "output_type": "execute_result"
    }
   ],
   "source": [
    "data[data['len']==2851]['verified_reviews'].iloc[0]"
   ]
  },
  {
   "cell_type": "code",
   "execution_count": 19,
   "metadata": {},
   "outputs": [
    {
     "data": {
      "text/plain": [
       "1"
      ]
     },
     "execution_count": 19,
     "metadata": {},
     "output_type": "execute_result"
    }
   ],
   "source": [
    "#shortest review\n",
    "\n",
    "data['len'].min()"
   ]
  },
  {
   "cell_type": "code",
   "execution_count": 20,
   "metadata": {},
   "outputs": [
    {
     "data": {
      "text/plain": [
       "'😍'"
      ]
     },
     "execution_count": 20,
     "metadata": {},
     "output_type": "execute_result"
    }
   ],
   "source": [
    "data[data['len']==1]['verified_reviews'].iloc[0]"
   ]
  },
  {
   "cell_type": "code",
   "execution_count": 21,
   "metadata": {},
   "outputs": [
    {
     "data": {
      "text/plain": [
       "<matplotlib.axes._subplots.AxesSubplot at 0x2c2c25560f0>"
      ]
     },
     "execution_count": 21,
     "metadata": {},
     "output_type": "execute_result"
    },
    {
     "data": {
      "image/png": "[encoded data removed]",
      "text/plain": [
       "<Figure size 864x504 with 1 Axes>"
      ]
     },
     "metadata": {
      "needs_background": "light"
     },
     "output_type": "display_data"
    }
   ],
   "source": [
    "data['len'].hist(range=(1, 2851), bins=100)"
   ]
  },
  {
   "cell_type": "code",
   "execution_count": 22,
   "metadata": {},
   "outputs": [
    {
     "data": {
      "text/plain": [
       "<matplotlib.axes._subplots.AxesSubplot at 0x2c2c26069e8>"
      ]
     },
     "execution_count": 22,
     "metadata": {},
     "output_type": "execute_result"
    },
    {
     "data": {
      "image/png": "[encoded data removed]",
      "text/plain": [
       "<Figure size 864x504 with 1 Axes>"
      ]
     },
     "metadata": {
      "needs_background": "light"
     },
     "output_type": "display_data"
    }
   ],
   "source": [
    "data['len'].hist(range=(1, 1500), bins=20)"
   ]
  },
  {
   "cell_type": "code",
   "execution_count": 23,
   "metadata": {},
   "outputs": [
    {
     "data": {
      "text/plain": [
       "<matplotlib.axes._subplots.AxesSubplot at 0x2c2c22b0f98>"
      ]
     },
     "execution_count": 23,
     "metadata": {},
     "output_type": "execute_result"
    },
    {
     "data": {
      "image/png": "[encoded data removed]",
      "text/plain": [
       "<Figure size 864x504 with 1 Axes>"
      ]
     },
     "metadata": {
      "needs_background": "light"
     },
     "output_type": "display_data"
    }
   ],
   "source": [
    "data['len'].hist(range=(1, 1000), bins=20)"
   ]
  },
  {
   "cell_type": "markdown",
   "metadata": {},
   "source": [
    "* **Most reviews are between 1-100 length and then 101-200**"
   ]
  },
  {
   "cell_type": "code",
   "execution_count": 24,
   "metadata": {},
   "outputs": [],
   "source": [
    "positive = data[data['feedback']==1]"
   ]
  },
  {
   "cell_type": "code",
   "execution_count": 25,
   "metadata": {},
   "outputs": [],
   "source": [
    "negative = data[data['feedback']==0]"
   ]
  },
  {
   "cell_type": "code",
   "execution_count": 26,
   "metadata": {},
   "outputs": [
    {
     "data": {
      "text/plain": [
       "124.65917732457656"
      ]
     },
     "execution_count": 26,
     "metadata": {},
     "output_type": "execute_result"
    }
   ],
   "source": [
    "positive['len'].mean()"
   ]
  },
  {
   "cell_type": "code",
   "execution_count": 27,
   "metadata": {},
   "outputs": [
    {
     "data": {
      "text/plain": [
       "215.24124513618676"
      ]
     },
     "execution_count": 27,
     "metadata": {},
     "output_type": "execute_result"
    }
   ],
   "source": [
    "negative['len'].mean()"
   ]
  },
  {
   "cell_type": "markdown",
   "metadata": {},
   "source": [
    "### All reviews to list"
   ]
  },
  {
   "cell_type": "code",
   "execution_count": 28,
   "metadata": {
    "scrolled": true
   },
   "outputs": [],
   "source": [
    "sentences = data['verified_reviews'].tolist()\n",
    "#sentences"
   ]
  },
  {
   "cell_type": "markdown",
   "metadata": {},
   "source": [
    "### Join senetences when find any space"
   ]
  },
  {
   "cell_type": "code",
   "execution_count": 29,
   "metadata": {},
   "outputs": [],
   "source": [
    "sentences_n = \" \".join(sentences)\n",
    "#sentences_n"
   ]
  },
  {
   "cell_type": "markdown",
   "metadata": {},
   "source": [
    "# Data Cleaning"
   ]
  },
  {
   "cell_type": "code",
   "execution_count": 30,
   "metadata": {},
   "outputs": [],
   "source": [
    "data = data.drop(['date', 'rating', 'len'],axis=1)"
   ]
  },
  {
   "cell_type": "code",
   "execution_count": 31,
   "metadata": {},
   "outputs": [],
   "source": [
    "variation_dummies = pd.get_dummies(data['variation'], drop_first = True)"
   ]
  },
  {
   "cell_type": "code",
   "execution_count": 32,
   "metadata": {},
   "outputs": [],
   "source": [
    "data.drop(['variation'], axis=1, inplace=True)"
   ]
  },
  {
   "cell_type": "code",
   "execution_count": 33,
   "metadata": {},
   "outputs": [],
   "source": [
    "data_n = pd.concat([data, variation_dummies], axis=1)"
   ]
  },
  {
   "cell_type": "code",
   "execution_count": 34,
   "metadata": {
    "scrolled": true
   },
   "outputs": [
    {
     "name": "stderr",
     "output_type": "stream",
     "text": [
      "[nltk_data] Downloading package stopwords to\n",
      "[nltk_data]     C:\\Users\\usama\\AppData\\Roaming\\nltk_data...\n",
      "[nltk_data]   Package stopwords is already up-to-date!\n"
     ]
    },
    {
     "data": {
      "text/plain": [
       "True"
      ]
     },
     "execution_count": 34,
     "metadata": {},
     "output_type": "execute_result"
    }
   ],
   "source": [
    "import nltk  \n",
    "\n",
    "nltk.download('stopwords')"
   ]
  },
  {
   "cell_type": "code",
   "execution_count": 35,
   "metadata": {},
   "outputs": [],
   "source": [
    "import string"
   ]
  },
  {
   "cell_type": "code",
   "execution_count": 36,
   "metadata": {
    "scrolled": true
   },
   "outputs": [],
   "source": [
    "from nltk.corpus import stopwords\n",
    "#stopwords.words('english')"
   ]
  },
  {
   "cell_type": "code",
   "execution_count": 37,
   "metadata": {},
   "outputs": [],
   "source": [
    "def message_cleaning(message):\n",
    "    Test_punc_removed = [char for char in message if char not in string.punctuation]\n",
    "    Test_punc_removed_join = ''.join(Test_punc_removed)\n",
    "    Test_punc_removed_join_clean = [word for word in Test_punc_removed_join.split() if word.lower() not in stopwords.words('english')]\n",
    "    return Test_punc_removed_join_clean"
   ]
  },
  {
   "cell_type": "code",
   "execution_count": 38,
   "metadata": {},
   "outputs": [],
   "source": [
    "reviews_df_clean = data['verified_reviews'].apply(message_cleaning)"
   ]
  },
  {
   "cell_type": "code",
   "execution_count": 39,
   "metadata": {},
   "outputs": [
    {
     "name": "stdout",
     "output_type": "stream",
     "text": [
      "['Love', 'Echo']\n"
     ]
    }
   ],
   "source": [
    "#cleaned\n",
    "\n",
    "print(reviews_df_clean[0])"
   ]
  },
  {
   "cell_type": "code",
   "execution_count": 40,
   "metadata": {},
   "outputs": [
    {
     "name": "stdout",
     "output_type": "stream",
     "text": [
      "Love my Echo!\n"
     ]
    }
   ],
   "source": [
    "#original\n",
    "\n",
    "print(data['verified_reviews'][0])"
   ]
  },
  {
   "cell_type": "markdown",
   "metadata": {},
   "source": [
    "# Tokenization (Count Vectorizer)"
   ]
  },
  {
   "cell_type": "code",
   "execution_count": 41,
   "metadata": {},
   "outputs": [],
   "source": [
    "from sklearn.feature_extraction.text import CountVectorizer"
   ]
  },
  {
   "cell_type": "code",
   "execution_count": 42,
   "metadata": {},
   "outputs": [],
   "source": [
    "vectorizer = CountVectorizer(analyzer = message_cleaning)"
   ]
  },
  {
   "cell_type": "code",
   "execution_count": 43,
   "metadata": {},
   "outputs": [],
   "source": [
    "X = vectorizer.fit_transform(data['verified_reviews']).toarray()"
   ]
  },
  {
   "cell_type": "code",
   "execution_count": 44,
   "metadata": {},
   "outputs": [
    {
     "data": {
      "text/plain": [
       "array([[0, 0, 0, ..., 0, 0, 0],\n",
       "       [0, 0, 0, ..., 0, 0, 0],\n",
       "       [0, 0, 0, ..., 0, 0, 0],\n",
       "       ...,\n",
       "       [0, 0, 0, ..., 0, 0, 0],\n",
       "       [0, 0, 0, ..., 0, 0, 0],\n",
       "       [0, 0, 0, ..., 0, 0, 0]], dtype=int64)"
      ]
     },
     "execution_count": 44,
     "metadata": {},
     "output_type": "execute_result"
    }
   ],
   "source": [
    "X"
   ]
  },
  {
   "cell_type": "code",
   "execution_count": 45,
   "metadata": {},
   "outputs": [
    {
     "name": "stdout",
     "output_type": "stream",
     "text": [
      "['072318', '1', '10', '100', '1000', '100X', '1010', '1030pm', '11', '1100sf', '1220', '129', '12am', '15', '150', '19', '1964', '1990s', '1990’s', '1GB', '1rst', '1st', '2', '20', '200', '2000', '2017', '2030', '229', '23', '2448', '247', '24GHZ', '24ghz', '25', '29', '299', '2999', '2Original', '2nd', '2or', '2package', '3', '30', '300', '30so', '334', '34', '342nd', '3434', '34A34', '34Alexa', '34Alexa34', '34Certified', '34Computer34', '34Dot34', '34Drop', '34First', '34Hub', '34I', '34Im', '34NEVER', '34Philips', '34Play', '34Second', '34Skills34', '34Tell', '34The', '34Things', '34Thongs', '34Try', '34Whats', '34alexa34', '34card34', '34cycle', '34cycle34', '34fixes34', '34fun34', '34group34', '34hear34', '34hmm', '34hmmm', '34it34', '34late', '34learn', '34light34', '34lights34', '34listen34', '34minor', '34outlet34', '34personal34', '34she34', '34show', '34smart', '34smart34', '34sorry', '34spying34', '34the', '34thick34', '34things', '34this', '34trouble', '34try', '34turn', '34visual34', '34wake34me', '34warehouse34', '35', '360', '39', '399', '3999', '3Dots', '3rd', '3xs', '4', '40000', '45', '48', '4K', '4am', '4k', '4th', '5', '50', '54', '5GHZ', '5GHz', '5am”', '5ghz', '5th', '6', '600', '62', '672', '6th', '7', '7000', '70s', '75', '7900', '8', '80s', '81', '83', '85', '88', '888', '8GB', '9', '90', '91', '911', '99', 'A1', 'A19', 'ABC', 'ABSOLUTELY', 'AF', 'AI', 'AIs', 'ALARM', 'ALEXA', 'ALEXUS', 'ALLRecipes', 'AMAZING', 'AMAZON', 'ANNOYING', 'ANOTHER', 'ASAP', 'ASK', 'AV', 'AVAILABLE', 'Able', 'Absolutely', 'Absolutly', 'Ac', 'AccentThe', 'Access', 'Acoustical', 'Acting', 'Actually', 'Adapter', 'Add', 'Added', 'Adding', 'Additionally', 'Affirmcom', 'Agent', 'Alabama', 'Alarm', 'Alarmbed', 'Alert', 'Alex', 'Alexa', 'Alexa34', 'AlexaAlso', 'AlexaEchoComputer', 'Alexas', 'Alexathis', 'Alexa’s', 'Alexi', 'Alexia', 'Alexis', 'Allows', 'Almost', 'Along', 'Alread', 'Already', 'Also', 'Although', 'Always', 'Amazing', 'Amazingly', 'Amazon', 'AmazonAlexa', 'AmazonZigbee', 'Amazonia', 'Amazonmark', 'Amazons', 'Amazons\\u200b', 'Amazont', 'American', 'Americans', 'Android', 'Another', 'Answers', 'Ant', 'AnyList', 'Anyhow', 'Anypod', 'App', 'Apparently', 'Apple', 'Apple’s', 'Apps', 'Arlo', 'Arrived', 'Ask', 'Asked', 'Asking', 'Ass', 'Audible', 'Audio', 'August', 'Aunt', 'Awesome', 'AwesomeYou', 'BASIC', 'BEST', 'BETTER', 'BFF', 'BOSE', 'BROKEN', 'BT', 'BUY', 'Barrets', 'Barry', 'Baseball', 'Basic', 'Basically', 'Beautiful', 'Bedroom', 'Besides', 'Best', 'Better', 'Beyond', 'Bezos', 'Bible', 'Big', 'Bing', 'Birthday', 'Black', 'Blink', 'Bloods', 'Bloomberg', 'Blue', 'Blueprints', 'Bluetooth', 'Bob', 'Bolt', 'Bose', 'Bottom', 'Bought', 'Brand', 'Bridge', 'Briefing', 'British', 'Brought', 'Buffet', 'Buildin', 'Built', 'Bulb', 'Bulbs', 'ButOMG', 'Buttons', 'Buy', 'Bye', 'C', 'CABLE', 'CANCEL', 'CANNOT', 'CART', 'CBS', 'CD', 'CDAlarm', 'CDs', 'CERTIFIED', 'CHANNELS', 'CHECK', 'CNN', 'COMPLETELY', 'CONNECTED', 'CONVENIENT', 'COOL', 'CORDLESS', 'CORDLove', 'CPR', 'CREAPY', 'CSIMIAMIwithout', 'CUT', 'Call', 'Cam', 'Came', 'Camelot', 'Cams', 'Cannot', 'Cant', 'Can’t', 'Carolina', 'Cent', 'Certified', 'Changing', 'Channels', 'Charlotte', 'Cheap', 'Christmas', 'Chromebook', 'Chromecast', 'Classic', 'Clear', 'Clearly', 'Clock', 'Cloud', 'Come', 'Comes', 'Commands', 'Compared', 'Completely', 'Conferencing', 'Connected', 'Connecting', 'Connectivity', 'Connects', 'Considering', 'Contacted', 'Convenient', 'Cooks', 'Cool', 'Coop', 'Coordinator', 'Cord', 'Cost', 'Could', 'Couldnt', 'County', 'Cozi', 'Currently', 'Customer', 'DAUGHTERS', 'DEAL', 'DISAPPOINTED', 'DONT', 'DOT', 'DOTS', 'Dad', 'Dash', 'Daughter', 'Day', 'Days', 'Deals', 'Debating', 'Dec', 'Decent', 'Definitely', 'Delivery', 'Den', 'Denon', 'Design', 'Despite', 'Device', 'Didnt', 'Didn’t', 'Digital', 'Direct', 'DirectTV', 'Directv', 'Disappointed', 'Disconnects', 'Discovery', 'Dish', 'Dislike', 'Ditched', 'Divertido', 'Doesnt', 'Doesn’t', 'Dont', 'Don’t', 'Dot', 'Dots', 'Doubtful', 'Download', 'Drop', 'Dropped', 'Dylan’s', 'EASY', 'ECHO', 'EEAANH', 'EQ', 'EVENTS', 'EVER', 'EVERYTHING', 'EXCEPT', 'Ease', 'Easily', 'Easy', 'Echo', 'EchoDot', 'EchoNot', 'Echoand', 'EchoesI', 'Echoplus', 'Echos', 'EcoBee3', 'Ecoo', 'Effortless', 'Eh', 'Element', 'Ended', 'Endless', 'English', 'Enjoy', 'Enjoyed', 'Enjoying', 'Enough', 'Entering', 'Entertainment', 'Es', 'Especially', 'Este', 'Etc', 'Etekcity', 'Ethernet', 'Even', 'Every', 'Everyone', 'Everything', 'Ex', 'Exactly', 'Example', 'Exceeded', 'Excelente', 'Excellent', 'Exchange', 'Excited', 'Exho', 'Expectations', 'Expensive', 'Extremely', 'Extrimelly', 'F', 'FAIL', 'FAULT', 'FEE', 'FI', 'FIRE', 'FIRST', 'FRIEND', 'FUN', 'FW', 'Face', 'FaceTime', 'Failed', 'Fair', 'Fairly', 'False', 'Family', 'Family’s', 'Fan', 'Fantastic', 'Fast', 'Father', 'Fathers', 'Favorite', 'Felt', 'Fidelity', 'Finally', 'Find', 'Fine', 'Fios', 'Fire', 'FireStick', 'Firestick', 'First', 'Fix', 'Flash', 'Followed', 'Football', 'Forever', 'Fortunately', 'Fri', 'Friday', 'Full', 'Fun', 'Funny', 'Furthermore', 'GB', 'GE', 'GET', 'GF', 'GO', 'GOES', 'GOING', 'GOOD', 'GREAT', 'Galaxy', 'Games', 'GameshowQuiz', 'GarbageEven', 'Gave', 'Gazebo', 'Gen', 'Gen2', 'Generation', 'Get', 'Getting', 'Gift', 'Given', 'Glad', 'God', 'Godsend', 'Going', 'Good', 'Google', 'Googles', 'Got', 'Grab', 'Grace', 'Grandaughter', 'Granddaughter', 'Grandkids', 'Great', 'Greatest', 'Greatproduct', 'Green', 'Group', 'HAL', 'HANDY', 'HAPPY', 'HATE', 'HBO', 'HD', 'HDMI', 'HELL', 'HELP', 'HIGHLY', 'HUGE', 'HULU', 'HVAC', 'Haha', 'HahaAwesome', 'Half', 'Hands', 'Handy', 'Happy', 'Hard', 'Harmony', 'Harvard', 'Havent', 'Haven’t', 'Haywire', 'Help', 'Helps', 'Hey', 'He’s', 'Hi', 'Highly', 'Hmmmm', 'Hole', 'Holy', 'Home', 'Honestly', 'Hong', 'Hooked', 'Hopefully', 'Hours', 'However', 'Hub', 'Hue', 'Hulu', 'Husband', 'Hut', 'IHeart', 'IM', 'INSTRUCTIONS', 'ISo', 'ITEM', 'ITyou', 'Id', 'Ideal', 'Ie', 'Ight', 'Iheart', 'Ill', 'Illustrated', 'Im', 'Imhave', 'Immediately', 'In34', 'Incorporated', 'Incredible', 'India', 'Infact', 'Initially', 'Install', 'Installation', 'Installed', 'Instantaneous', 'Instantly', 'Instead', 'Instructions', 'Intercom', 'International', 'Internet', 'Invasive', 'IoT', 'Iove', 'Ipad', 'Island', 'Italian', 'Italy', 'Item', 'Itiswhat', 'It’ll', 'It’s', 'Ive', 'I’d', 'I’ll', 'I’m', 'I’ve', 'Jeapordy', 'Jeff', 'Jeopardy', 'Jetsons', 'Jimmy', 'Johnny', 'Jokes', 'June', 'Kasa', 'KasaCam', 'Keeps', 'Kids', 'Killer', 'Kindle', 'Kitchen', 'KitchenDen', 'Kodi', 'Kong', 'Kwikset', 'LATER', 'LED', 'LIKE', 'LINK', 'LOL', 'LOOOOOOOVE', 'LOVE', 'LOVES', 'Language', 'Large', 'Last', 'Lastly', 'Lately', 'Leaning', 'Learned', 'Learning', 'Learns', 'Leary', 'Least', 'Let', 'Lets', 'Let’s', 'Light', 'Like', 'Liked', 'Lil', 'Link', 'Linked', 'Linking', 'Listen', 'Listening', 'Listens', 'Little', 'Loads', 'Lock', 'Logitech', 'Lol', 'Long', 'Looked', 'Looking', 'Looks', 'Lots', 'Louis', 'Love', 'Loved', 'Lovee', 'Loving', 'Luckily', 'Luv', 'Lyrics', 'MOM', 'MONTHLY', 'MUST', 'Mac', 'Made', 'Madlibs', 'Mainly', 'Majel', 'Make', 'Makes', 'Making', 'Malone', 'Mama', 'Man', 'Many', 'May', 'Maybe', 'Meh', 'Menu', 'Met', 'Mexico', 'Mi', 'Mic', 'Microphone', 'Million', 'Mini', 'Moana', 'Mom', 'MonThu', 'Mother’s', 'Motown', 'Movies', 'Much', 'Multi', 'Music', 'MusicI’d', 'Musicloveit', 'Must', 'Muy', 'NBC', 'NC', 'NEEDS', 'NETFLIX', 'NEW', 'NFL', 'NPR', 'NSA', 'NY', 'NYNJ', 'Neat', 'Need', 'Needed', 'Needs', 'Nervana', 'Nest', 'Net', 'Netflix', 'Never', 'New', 'News', 'Nexia', 'Next', 'Nice', 'None', 'Nope', 'North', 'Note', 'Nothing', 'Numb', 'Nurses', 'OK', 'OPTIMUM', 'Office', 'Often', 'Oh', 'Omg', 'OnTraclike', 'One', 'Ony', 'Oops', 'Opening', 'Ordered', 'Original', 'Otherwise', 'Outstanding', 'Overall', 'PAY', 'PERMANENTLY', 'PHENOMENAL', 'PHONE', 'PIA', 'PLAYLIST', 'PRESET', 'PRIME', 'PRODUCT', 'PRODUCTS', 'PRODUCTonce', 'Packing', 'Pandora', 'Part', 'People', 'Perfect', 'Perfectly', 'Perhaps', 'Personal', 'Philip', 'Philips', 'PhilipsHue', 'Phillips', 'Philly', 'Picture', 'Pizza', 'Plain', 'Planning', 'Play', 'Played', 'Playing', 'Plays', 'Please', 'Pleased', 'Plenty', 'Plug', 'Plugged', 'Plugs', 'Plus', 'Plus❤️❤️', 'Pluto', 'Poor', 'Possibly', 'Post', 'Powerful', 'Premium', 'Pretty', 'Price', 'Primarily', 'Prime', 'Pro', 'Probably', 'Product', 'Prompt', 'Pros', 'Proved', 'Purchase', 'Purchased', 'Put', 'Puts', 'QVC', 'Quality', 'Quick', 'Quote', 'REALLY', 'RECOMMEND', 'REFURBISHED', 'ROCKS', 'ROOMS', 'Radio', 'Ran', 'Ranger', 'Read', 'Ready', 'Really', 'Reason', 'Recently', 'Recommend', 'Recommended', 'Reconnecting', 'Red', 'Refurbish', 'Refurbished', 'Regular', 'Replaced', 'Replacement', 'Reset', 'Resetting', 'Resolution', 'Responds', 'Responsive', 'Return', 'Returned', 'Returning', 'Review', 'Ridiculous', 'Right', 'Ring', 'Riversa', 'Roku', 'Roku’s', 'Room', 'S8', 'S9', 'SCROLLING', 'SEEM', 'SEEMS', 'SHOW', 'SHOWS', 'SIGNIFICANT', 'SIRI', 'SM', 'SMART', 'SNOOZE', 'SONS', 'SPAM', 'SPECIFICALLY', 'SSDI', 'STICK', 'STILL', 'Sad', 'Sadly', 'Samsung', 'SamsungGalaxy', 'Satisfied', 'Save', 'Saved', 'Say', 'Says', 'Scottish', 'Screen', 'Season', 'Second', 'Secret', 'Security', 'See', 'Seems', 'Sent', 'Seriously', 'Serius', 'Set', 'Setting', 'Setup', 'Shes', 'She’s', 'Shopping', 'Shouldnt', 'Show', 'Showing', 'Showman', 'Shows', 'Showtime', 'Simple', 'Simply', 'Since', 'Single', 'Singley', 'Siri', 'Sirius', 'Siri”', 'Sirriusxm', 'Six', 'Skills', 'Skype', 'Sling', 'Slowly', 'Small', 'Smaller', 'Smart', 'SmartThings', 'Smiths', 'Snell', 'Sometimes', 'Son', 'Sonos', 'Sony', 'Soon', 'Sopt', 'Sorry', 'Sound', 'SoundTouch', 'Sounds', 'Southern', 'Spanish', 'SpanishI', 'Speak', 'Speaker', 'Speakers', 'Speech', 'Spent', 'Spot', 'SpotI', 'Spotify', 'Spotlight', 'Spots', 'Spotthen', 'Sprint', 'St', 'Star', 'Stark', 'Stars', 'Started', 'Starting', 'Step', 'Stick', 'Stickeasy', 'Still', 'Stopped', 'Streaming', 'Suffolk', 'Supberb', 'Super', 'SuperEasy', 'Superb', 'Support', 'Supposed', 'Sure', 'Surprisingly', 'Sweet', 'Switched', 'Synced', 'TALK', 'TARDIS', 'TECHY', 'THING', 'TPLink', 'TRYING', 'TV', 'TVAlexa', 'TVI', 'TVmovie', 'TVs', 'Takes', 'Talking', 'Tall', 'Taller', 'Tap', 'Tasha’s', 'Tech', 'Technology', 'Tekkie', 'Terrible', 'Terrific', 'Texas', 'Text', 'Thank', 'Thanks', 'Thats', 'That’s', 'Theres', 'There’s', 'Thing', 'Things', 'Third', 'Though', 'Thought', 'Thumbs', 'Thunderstorm', 'Thursday', 'TiVo', 'Timeyou', 'Told', 'Tons', 'Tony', 'Took', 'Tosca', 'Totally', 'Tower', 'Traffic', 'Training', 'Trek', 'Tremendous', 'Trending”', 'Tried', 'Trivia', 'Try', 'Try34', 'Trying', 'Tube', 'Tubi', 'Tunes', 'Turn', 'Turned', 'Tv', 'Two', 'U', 'UNDERESTIMATED', 'UPDATE', 'USA', 'USB', 'USE', 'UTube', 'Ummm', 'Un', 'Unacceptable—expected', 'Unbelievable', 'Understands', 'Unfortunately', 'Unit', 'Unless', 'Unlimited', 'Upgraded', 'Upon', 'Use', 'Used', 'Useful', 'Using', 'Usual', 'VLAN', 'VUDU', 'Value', 'Versatile', 'Verygod', 'Video', 'Videos', 'View', 'Voice', 'VoiceView', 'Voila', 'VoilaHaving', 'Voltson', 'Volume', 'WAITING', 'WATCH', 'WEAK', 'WEEKDAYS', 'WI', 'WORK', 'WORKS', 'WOW', 'Waited', 'Wakes', 'Waking', 'Walk', 'Want', 'Wanted', 'Wasnt', 'Wasn’t', 'Waste', 'Watching', 'Way', 'Weak', 'Wealth', 'Weather', 'Web', 'Well', 'Wellmade', 'Went', 'Weve', 'We’ve', 'Whats', 'White', 'WhitenbspGreat', 'WiFi', 'Wife', 'Wifi', 'Wikipedia', 'Wink', 'Wireless', 'Wish', 'Within', 'Without', 'Wonder', 'Wonderful', 'WooHoo', 'Work', 'Worked', 'Working', 'Workreat', 'Works', 'Worlds', 'Worth', 'Worthless', 'Worthy', 'Would', 'Wow', 'X', 'Xbox', 'Xfinity', 'YES', 'YOUTUBE', 'YOUTUBEs', 'Yep', 'Yes', 'Yet', 'Yhe', 'York', 'YouTube', 'YouTubeIt', 'Youre', 'Youtube', 'You’re', 'Yup', 'Z', 'Zigbee', 'Zwave', 'Zzzzzzz', 'abay', 'abd', 'abilities', 'ability', 'able', 'abode', 'absolutely', 'ac', 'accent', 'acceptable', 'accepting', 'access', 'accessNeeds', 'accessTo', 'accessable', 'accessible', 'accessing', 'accessories', 'accesss', 'accident', 'accidentally', 'accompanying', 'accomplish', 'accomplished', 'according', 'accordingly', 'account', 'accounts', 'accuracy', 'accurate', 'accurately', 'accustom', 'acknowledge', 'across', 'act', 'acting', 'action', 'actions', 'activate', 'activated', 'activates', 'activating', 'activation', 'actively', 'activities', 'acts', 'actually', 'ad', 'adapted', 'adapter', 'adapting', 'add', 'added', 'addict', 'addicted', 'addicts', 'adding', 'addition', 'additional', 'addons', 'addressed', 'addresses', 'adds', 'adept', 'adequate', 'adjacent', 'adjust', 'adjusting', 'adjustment', 'adjusts', 'admit', 'adopters34', 'adorable', 'ads', 'adults', 'advance', 'advanced', 'advantage', 'advantages', 'advertise', 'advertised', 'advertisement', 'advertising', 'advice', 'advise', 'advised', 'aesthetic', 'affirmations', 'afford', 'affordable', 'afraid', 'afternoon', 'afterwards', 'againI', 'againThis', 'age', 'ages', 'ago', 'agoYesterday', 'agree', 'agreement', 'ahead', 'aide', 'aint', 'air', 'aka', 'al', 'alarm', 'alarmThis', 'alarmcom', 'alarms', 'albeit', 'alcohol', 'alert', 'alerts', 'alexa', 'alexas', 'alexia', 'algo', 'alive', 'allOverall', 'alleviate', 'alli', 'allinone', 'allow', 'allowed', 'allowing', 'allows', 'almost', 'alone', 'along', 'alongside', 'alot', 'alots', 'aloud', 'already', 'alright', 'also', 'altering', 'alternative', 'alternatives', 'although', 'always', 'amaonmazing', 'amaxing', 'amaze', 'amazed', 'amazin', 'amazing', 'amazingly', 'amazon', 'amazons', 'ambient', 'among', 'amount', 'amounts', 'amozon', 'amplifier', 'amused', 'amusing', 'analog', 'ands', 'angle', 'annoying', 'another', 'answer', 'answered', 'answering', 'answers', 'anticipate', 'anticipated', 'antitechnology', 'anybody', 'anymore', 'anyone', 'anypod', 'anything', 'anythingI', 'anytime', 'anyway', 'anyways', 'anywhere', 'apartment', 'app', 'app34', 'apparent', 'apparently', 'apparentlyLong', 'appealing', 'appear', 'appears', 'apple', 'appliances', 'application', 'applications', 'appointments', 'appointmentsI', 'appon', 'appreciated', 'apprehensive', 'approaching', 'appropriate', 'approximately', 'apps', 'area', 'areas', 'arent', 'aren’t', 'argue', 'argument', 'arguments', 'arises', 'arlo', 'arm', 'around', 'aroundno', 'array', 'arrive', 'arrived', 'arriving', 'articles', 'artist', 'artistbut', 'artists', 'asap', 'ase', 'ask', 'askMy', 'asked', 'askes', 'asking', 'asleep', 'aspect', 'aspects', 'aspectsa', 'ass', 'assigned', 'assist', 'assistance', 'assistant', 'assume', 'assumed', 'assuming', 'assumption', 'atención', 'atmosphere', 'atrás', 'attach', 'attached', 'attachment', 'attempt', 'attempted', 'attempting', 'attention', 'attractive', 'audible', 'audibleI', 'audibles', 'audio', 'audioApple', 'audiobook', 'audiobooks', 'audiophile', 'aunt', 'auto', 'automatic', 'automatically', 'automation', 'aux', 'auxiliary', 'avail', 'availability', 'available', 'avoid', 'awake', 'aware', 'away', 'awesome', 'awesomeunderstands', 'awful', 'awhile', 'awkward', 'awsome', 'baby', 'back', 'backThe', 'background', 'backgrounds', 'backyard', 'bad', 'baffle', 'baffled', 'ball', 'ban', 'band', 'bandwagon', 'bandwidth', 'bang', 'bar', 'bare', 'barely', 'bargain', 'bark', 'barn', 'base', 'based', 'basement', 'basic', 'basically', 'bass', 'bathroom', 'bathrooms', 'batman', 'batteries', 'battery', 'bc', 'beam', 'beat', 'beautiful', 'beautifully', 'beauty', 'became', 'becausse', 'become', 'becomes', 'becoming', 'bed', 'bedMany', 'bedroom', 'bedrooms', 'bedside', 'bedtime', 'beefy', 'begin', 'beginners', 'beginning', 'begun', 'behaved', 'behind', 'believe', 'believer', 'bells', 'belong', 'benefit', 'benefits', 'beside', 'best', 'bestand', 'bet', 'beta', 'better', 'betterBesides', 'bettter', 'beyond', 'bezel', 'bf', 'bible', 'big', 'bigger', 'biggest', 'bill', 'billboard', 'bills', 'birth', 'birthday', 'birthdayOnly', 'bit', 'bizarre', 'black', 'blanket', 'blast', 'blasting', 'blessing', 'blind', 'blinks', 'blocking', 'blown', 'blows', 'blue', 'bluetooth', 'blurring', 'board', 'boat', 'body', 'bolt', 'bonkers', 'bonus', 'book', 'books', 'booksThe', 'boom', 'boombox', 'booming', 'boost', 'boring', 'born', 'bose', 'boss', 'bot', 'bother', 'bothered', 'bothers', 'bothersome', 'bottom', 'bough', 'bought', 'box', 'boyfriend', 'brand', 'brandnew', 'brands', 'brandunlimited', 'bread', 'break', 'breakfast', 'breeze', 'bridge', 'brief', 'briefing', 'briefings', 'briefs', 'bright', 'brightness', 'bring', 'bringing', 'broadway', 'broke', 'broken', 'brought', 'bucks', 'buddies', 'budget', 'buffer', 'buffering', 'bug', 'bugging', 'bugs', 'building', 'built', 'builtin', 'bulb', 'bulbs', 'bulbsWhat', 'buld', 'bulky', 'bummed', 'bunch', 'bundle', 'bundled', 'burns', 'business', 'busy', 'butNOT', 'buts', 'button', 'buttons', 'buttons3', 'buy', 'buyI', 'buyWe', 'buyer', 'buyers', 'buying', 'buys', 'buzzing', 'bye', 'cable', 'calendar', 'calendars', 'call', 'called', 'calling', 'calls', 'calm', 'calmer', 'cam', 'cambiar', 'came', 'camera', 'camera34', 'cameras', 'campus', 'cams', 'canary', 'cancel', 'canceling', 'cancelled', 'cancels', 'cannot', 'cant', 'can’t', 'capabilities', 'capabilitiesbut', 'capability', 'capable', 'capacity', 'capasity', 'car', 'cards', 'cardsRotate', 'care', 'carefully', 'careless', 'carful', 'carrier', 'carry', 'cartoons', 'case', 'cases', 'cat', 'catch', 'catches', 'categories', 'cause', 'caused', 'cave', 'ceases', 'ceiling', 'ceilingsCons', 'celebs', 'cell', 'cellphone', 'cent', 'center', 'certain', 'certainly', 'certified', 'chachki', 'chair', 'chairlaziness', 'chalk', 'challenge', 'challenged', 'challenged’', 'champ', 'chance', 'change', 'changed', 'changer', 'changes', 'changing', 'channel', 'channels', 'channelsMust', 'characteristics', 'charge', 'chargeable', 'charger', 'charging', 'charm', 'charmed', 'chart', 'chat', 'chatting', 'cheap', 'cheaper', 'cheapest', 'check', 'checked', 'checking', 'child', 'childhood', 'children', 'chocolate', 'choice', 'choices', 'choose', 'choosing', 'choppy', 'chores', 'chose', 'chosen', 'circle', 'citizens', 'city', 'clapper', 'clarity', 'classes', 'classical', 'classroom', 'clean', 'cleaner', 'cleaning', 'clear', 'clearAlexa', 'clearFor', 'clearer', 'clearly', 'click', 'clients', 'clips', 'clock', 'clockHome', 'clockalarmradio', 'clocking', 'clockradio', 'clocks', 'clone', 'close', 'closed', 'closer', 'clothes', 'cloud', 'clue', 'coast', 'codes', 'coffeeetc', 'cohesive', 'collection', 'collections', 'collectors', 'college', 'colon', 'color', 'colors', 'comands', 'combination', 'combine', 'combined', 'come', 'comeletely', 'comes', 'comfort', 'comfortable', 'comforting', 'coming', 'command', 'commandbut', 'commanded', 'commands', 'commandsIm', 'comment', 'comments', 'commercials', 'commodity', 'common', 'communicate', 'communicated', 'communicating', 'communication', 'community', 'commute', 'commuteIf', 'como', 'compacity', 'compact', 'companion', 'company', 'comparable', 'compare', 'compared', 'compatible', 'competition', 'complacatedI', 'complain', 'complainI', 'complained', 'complaining', 'complaint', 'complaintNo', 'complaints', 'complete', 'completed', 'completely', 'complicated', 'compliment', 'compliments', 'components', 'compound', 'computer', 'computers', 'con', 'concept', 'concern', 'concerned', 'concerning', 'concerns', 'concise', 'condition', 'conditioning', 'conditions', 'conectado', 'conferencing', 'confident', 'configure', 'configured', 'conflict', 'confused', 'confuses', 'confusing', 'confusionI', 'connect', 'connected', 'connectedWell', 'connecting', 'connectingcheck', 'connection', 'connectivity', 'connectivityit', 'connects', 'cons', 'conscious', 'consider', 'considering', 'consistent', 'consistently', 'conspiracy', 'constant', 'constantly', 'constructed', 'consulting', 'consumers', 'contact', 'contacted', 'contacts', 'contains', 'content', 'contents', 'continous', 'continually', 'continue', 'continues', 'continuous', 'continuously', 'continuously34', 'control', 'controll', 'controlled', 'controller', 'controlling', 'controls', 'convenience', 'convenient', 'conversation', 'conversations', 'convert', 'convinced', 'cook', 'cooking', 'cool', 'coolBONUS', 'cooler', 'coolest', 'cord', 'cordThank', 'cordless', 'core', 'correct', 'corrected', 'correctly', 'corresponds', 'cortna', 'cost', 'costs', 'cotton', 'couch', 'could', 'couldnt', 'couldn’t', 'counter', 'counters', 'countless', 'countries', 'country', 'couple', 'course', 'courseAlexa', 'cousin', 'cousins', 'cover', 'covered', 'covers', 'coworker', 'cracked', 'crackling', 'crap', 'crappy', 'crashed', 'crashes', 'crashing', 'crazy', 'create', 'created', 'credited', 'creepy', 'crib', 'crisp', 'critically', 'cropping', 'cross', 'crunchyroll', 'cualquier', 'cue', 'cumbersome', 'cups', 'current', 'currently', 'cursed', 'curve', 'custom', 'customer', 'customers', 'customizable', 'customization', 'customize', 'cut', 'cute', 'cutie', 'cutting', 'cycle', 'cycled', 'cycles', 'cylinder', 'cylindercal', 'dad', 'daily', 'damage', 'dance', 'dancing', 'dare', 'dark', 'darn', 'dash', 'data', 'date', 'dated', 'dates', 'daughter', 'day', 'day34', 'dayUsed', 'days', 'daytoday', 'de', 'deactivate', 'dead', 'deaf', 'deal', 'dealSet', 'deals', 'debating', 'decent', 'decide', 'decided', 'decides', 'decision', 'deck', 'decor', 'decorated', 'decrease', 'dedicated', 'deep', 'deeper', 'default', 'defaultKaren', 'defeats', 'defective', 'defectiveThis', 'defence', 'defently', 'definately', 'define', 'definitely', 'definition', 'definitively', 'defuserI', 'degree', 'degrees', 'del', 'delay', 'delete', 'deliver', 'delivered', 'delivers', 'delivery', 'deliveryOverall', 'demand', 'dementia', 'dense', 'dented', 'department', 'dependable', 'dependence', 'depending', 'deployed', 'depreciates', 'depth', 'described', 'description', 'design', 'designed', 'designers', 'desired', 'desk', 'despite', 'detailed', 'details', 'detect', 'determined', 'developed', 'developers', 'development', 'device', 'device34', 'deviceI', 'deviceOverall', 'deviceRight', 'devices', 'devices34', 'devicesPlus', 'devise', 'devises', 'dhiw', 'diagnostics', 'dial', 'dictionary', 'didShe', 'didnt', 'didn’t', 'died', 'dies', 'differ', 'difference', 'differences', 'different', 'differentThe', 'differentiate', 'difficult', 'difficulty', 'dig', 'digital', 'digitol', 'digs', 'dim', 'dimat', 'dimension', 'dimmer', 'dimming', 'dims', 'dining', 'dinner', 'dinnerAs', 'dinosaurs', 'direct', 'direction', 'directions', 'directly', 'directv', 'disability', 'disable', 'disabled', 'disagree', 'disappoint', 'disappointed', 'disappointing', 'disappointment', 'disappointments', 'disarm', 'disaster', 'disconcerting', 'disconnect', 'disconnected', 'disconnecting', 'disconnections', 'disconnects', 'discount', 'discounts', 'discourage', 'discover', 'discovered', 'discoveredthat', 'discovering', 'discovery', 'dislike', 'dislikes', 'dismiss', 'dismissed', 'display', 'displayed', 'displaying', 'displays', 'disposable', 'dissatisfaction', 'distance', 'distorted', 'distracting', 'distraction', 'disturbing', 'ditch', 'diversity', 'dj', 'doAlexa', 'doSide', 'docking', 'doctor', 'documentationinstructions', 'dodging', 'doesnt', 'doesn’t', 'dog', 'dogs', 'dollar', 'dollars', 'domain', 'don34', 'don34t', 'done', 'donr', 'dont', 'don’t', 'door', 'doorbell', 'doorbellyou', 'doors', 'dorm', 'dot', 'dots', 'dot’ish', 'downUpdate', 'downfall', 'download', 'downloaded', 'downloading', 'downright', 'downside', 'downstairs', 'downstairsso', 'drag', 'draw', 'drawback', 'drawing', 'dressed', 'drive', 'driven', 'drivers', 'driving', 'drop', 'dropin', 'dropped', 'dropping', 'drops', 'dryer', 'due', 'dumb', 'dumber', 'dunce', 'dunno', 'dust', 'duty', 'dying', 'e', 'ear', 'early', 'earn', 'ease', 'easier', 'easierI', 'easierthough', 'easily', 'east', 'easy', 'eavesdropping', 'echo', 'echoStill', 'echoes', 'echoloving', 'echos', 'echosecho', 'eco', 'ecosystem', 'ed', 'edge', 'edit', 'educated', 'educational', 'effected', 'effective', 'effects', 'efficiency', 'efficient', 'effort', 'effortless', 'efforts', 'eg', 'eh', 'either', 'el', 'elderly', 'electeonically', 'electrician', 'electricity', 'electronic', 'electronically', 'electronics', 'elegant', 'eliminate', 'else', 'elseI', 'elsewhere', 'em', 'email', 'embarrassed', 'emergency', 'emoji', 'employees', 'en', 'enable', 'enabled', 'enables', 'encyclopedias', 'end', 'ended', 'ends', 'engage', 'engagement', 'engaging', 'engine', 'engineers', 'enhanced', 'enjoy', 'enjoyable', 'enjoyed', 'enjoying', 'enjoyment', 'enjoys', 'enough', 'enrolment', 'enter', 'entering', 'enters', 'entertained', 'entertaining', 'entertainment', 'entire', 'entirely', 'entry', 'equal', 'equalizer', 'equipment', 'equipo', 'error', 'errors', 'es', 'escencia', 'esp', 'espanol', 'español', 'especially', 'essential', 'essentially', 'esta', 'estar', 'estudio', 'estés', 'etc', 'etcHighly', 'etcUntil', 'etcthe', 'etc”i', 'evaluate', 'even', 'evening', 'event', 'events', 'eventually', 'ever', 'everfloating', 'every', 'everybody', 'everyday', 'everyone', 'everyone’s', 'everything', 'everythingI', 'everytime', 'everywhere', 'eveyday', 'evolve', 'evrything', 'exact', 'exactly', 'example', 'examplesI', 'exasperationI', 'exceeded', 'exceeds', 'excelente', 'excellent', 'excellently', 'except', 'exception', 'exceptionally', 'excessive', 'exchange', 'exchangereturn', 'exchanges', 'exchanging', 'excited', 'excitement', 'excuses', 'existence', 'existent', 'existing', 'expanded', 'expanding', 'expect', 'expectation', 'expectations', 'expected', 'expectedalready', 'expecting', 'expensive', 'experience', 'experienced', 'experiences', 'expert', 'expired', 'expires', 'explanation', 'explicit', 'explore', 'explored', 'exploring', 'extend', 'extended', 'extender', 'extends', 'extension', 'extent', 'external', 'extra', 'extras', 'extremely', 'eye', 'eyes', 'f', 'fabric', 'fabriccolor', 'fabulous', 'face', 'facebook', 'faces', 'fact', 'factor', 'factory', 'facts', 'failing', 'fails', 'fairly', 'fairness', 'fall', 'falling', 'falls', 'familiar', 'family', 'fan', 'fanatic', 'fanlove', 'fans', 'fantastic', 'far', 'farstill', 'farther', 'fascinating', 'fashioned', 'fast', 'faster', 'fat', 'father', 'fathers', 'fault', 'faulty', 'favorite', 'favorites', 'featues', 'feature', 'featureI', 'featureShe', 'featured', 'featurejust', 'features', 'featuresservicessuch', 'fee', 'feed', 'feedback', 'feeds', 'feee', 'feel', 'feeling', 'feels', 'fees', 'feet', 'fell', 'felt', 'fencing', 'fiances', 'fidelity', 'figure', 'figured', 'figuring', 'fill', 'filled', 'fills', 'final', 'finally', 'find', 'finding', 'finds', 'fine', 'finebut', 'fingertips', 'finicky', 'finish', 'fios', 'fire', 'firestick', 'firmare', 'firmware', 'firmware”', 'first', 'firstgen', 'fit', 'fits', 'five', 'fix', 'fixed', 'fixedI', 'fixes', 'fixing', 'fixture', 'fixtures', 'flash', 'flashes', 'flat', 'flaw', 'flawless', 'flawlessly', 'flaws', 'flexibility', 'flexible', 'flickering', 'floor', 'floored', 'fm', 'folks', 'follow', 'followed', 'font', 'foot', 'football', 'footprint', 'force', 'forces', 'forecast', 'forecasts', 'forever', 'forget', 'forgot', 'forgotten', 'forjust', 'form', 'forth', 'forums', 'forward', 'found', 'four', 'fourth', 'free', 'freeze', 'freezes', 'free”', 'frequently', 'friend', 'friendly', 'friends', 'front', 'frustrated', 'frustrating', 'frustration', 'full', 'fuller', 'fullfledged', 'fullsize', 'fullsized', 'fully', 'fumble', 'fun', 'funIt', 'funSometimes', 'funciona', 'funcionamiento', 'funciones', 'function', 'functionEvery', 'functionalities', 'functionality', 'functions', 'funmusic', 'funny', 'funnybut', 'fussing', 'fussy', 'future', 'gadget', 'gadgetDrives', 'gadgets', 'gain', 'game', 'games', 'gaming', 'gap', 'garage', 'garbage', 'gateway', 'gather', 'gatherings', 'gave', 'ge', 'geared', 'geek', 'geeks', 'gen', 'gen34', 'gender', 'general', 'generally', 'generation', 'generationThe', 'genial', 'genres', 'geo', 'geofencing', 'get', 'gets', 'getting', 'ghost', 'gift', 'gifts', 'girlfriend', 'girls', 'give', 'given', 'gives', 'giving', 'gizmo', 'glad', 'glaring', 'glasses', 'glitch', 'glitches', 'glitching', 'glorified', 'glow', 'go', 'goes', 'going', 'golden', 'gone', 'goo', 'good', 'goodSincerely', 'goodSome', 'goodies', 'goodmorning', 'goodness', 'google', 'googled', 'got', 'gotten', 'government', 'grab', 'grand', 'grandchildren', 'grandchildrenwho', 'granddaughter', 'grandfather', 'grandkids', 'grandmother', 'grandparent', 'grandparents', 'grands', 'grandson', 'grandsons', 'granite', 'granted', 'graphics', 'gratamente', 'great', 'greatHaving', 'greatI', 'greatThe', 'greatWith', 'greater', 'greatest', 'greatit', 'greatly', 'greatvideo', 'green', 'greeting', 'grip', 'gripe', 'grocery', 'groggy', 'ground', 'group', 'groups', 'growing', 'grownups', 'grows', 'guarantee', 'guaranteeing', 'guard', 'guess', 'guest', 'guide', 'guilty', 'guy', 'guys', 'habit', 'habla', 'hadnt', 'hadn’t', 'haha', 'hahahaha', 'hairs', 'half', 'hallway', 'hand', 'handle', 'handled', 'handles', 'hands', 'handsfree', 'handy', 'hang', 'happen', 'happened', 'happening', 'happens', 'happensThe', 'happier', 'happy', 'hard', 'hardcore', 'harder', 'hardly', 'hasnt', 'hasn’t', 'hassel', 'hassle', 'hate', 'hated', 'hates', 'hauler', 'haveThe', 'havelove', 'havent', 'haven’t', 'hcfe', 'hd8', 'hdm1', 'headline', 'headphone', 'headphones', 'heads', 'healing', 'hear', 'heard', 'hearing', 'hears', 'heart', 'heaven', 'heavy', 'heavyso', 'heck', 'hectic', 'held', 'helful', 'hell', 'help', 'helpUsing', 'helped', 'helper', 'helpful', 'helping', 'helps', 'hence', 'herIt', 'hernot', 'hes', 'hesitant', 'hesitate', 'hesitated', 'hey', 'hiccups', 'hide', 'high', 'higher', 'highest', 'highly', 'hints', 'hire', 'hired', 'hiring', 'history', 'hit', 'hmm', 'hold', 'holder', 'holding', 'hole', 'holiday', 'home', 'homeI', 'homeWhat', 'homes', 'homescreen', 'homework', 'home”', 'honest', 'honestly', 'hook', 'hooked', 'hope', 'hoped', 'hopefully', 'hoping', 'horrible', 'horse', 'hospital', 'hospitals', 'hosting', 'hot', 'hotel', 'hour', 'hours', 'house', 'houseDo', 'houseThe', 'household', 'houses', 'housethe', 'however', 'hr', 'httpswwwamazoncomdpB073SQYXTWrefcmcrrypprdttlsol18', 'hub', 'hubbed', 'hubby', 'hubs', 'hubsThe', 'hue', 'huele', 'huge', 'human', 'humour', 'hundred', 'hundreds', 'husband', 'hype', 'iHeartRadio', 'iMusic', 'iPad', 'iPads', 'iPhone', 'iPhone’s', 'iTunes', 'id', 'idea', 'ifs', 'ignored', 'ignoring', 'ihome', 'ii', 'im', 'image', 'images', 'imagination', 'imagine', 'imagined', 'immediately', 'impaired', 'impede', 'imperfection', 'implementing', 'important', 'importantly', 'impressed', 'impressive', 'improve', 'improved', 'improvement', 'improvements', 'improving', 'impulse', 'imrproved', 'inability', 'include', 'included', 'included34', 'includedplease', 'includes', 'including', 'inclusive', 'income', 'inconvenience', 'inconvenient', 'increase', 'increasing', 'incredible', 'incredibly', 'indicated', 'indicator', 'indispensable', 'individual', 'individually', 'indoor', 'indundated', 'industry', 'inexpensive', 'inexperience', 'inferior', 'info', 'infoDot', 'information', 'information\\u200b', 'informative', 'informed', 'infotainment', 'initial', 'initially', 'initiate', 'inline', 'innovative', 'input', 'insanely', 'insanity', 'insert', 'inside', 'insist', 'inspired', 'install', 'installation', 'installed', 'installing', 'installs', 'instant', 'instantly', 'instead', 'instruction', 'instructions', 'integrate', 'integrated', 'integrates', 'integrating', 'integration', 'intelagence', 'inteligente', 'intelligent', 'intend', 'intended', 'intendedI', 'intention', 'interact', 'interacting', 'interaction', 'interactions', 'interactive', 'intercom', 'intercoms', 'interest', 'interested', 'interesting', 'interface', 'interfacing', 'interference', 'interferes', 'intermittent', 'intermittently', 'internal', 'internet', 'interpret', 'interrogated', 'interrupt', 'interruption', 'intimidating', 'introduce', 'introducing', 'introduction', 'intrusive', 'intuitive', 'invasion', 'invasions', 'invasive', 'invention', 'invest', 'invested', 'investing', 'investment', 'inviting', 'involved', 'involves', 'in’', 'in”', 'in”on', 'ipdates', 'iphone', 'irritated', 'irritating', 'ise', 'island', 'isnt', 'isn’t', 'isolated', 'issue', 'issueover', 'issues', 'issuesFirst', 'issuesworks', 'isue', 'it34', 'itShe', 'itThe', 'itWhat', 'ita', 'itd', 'item', 'items', 'itjust', 'itll', 'itselfI', 'itshe', 'itso', 'itsuch', 'itthis', 'it’s', 'it‼️', 'it😥', 'iy', 'i’m', 'jack', 'jacuzzi', 'jamming', 'jams', 'jazz', 'job', 'join', 'joke', 'joke34', 'joked', 'jokes', 'journey', 'joy', 'jump', 'jumped', 'jumping', 'junkThey', 'kasa', 'keen', 'keep', 'keeper', 'keeping', 'keeps', 'kept', 'key', 'keyboard', 'kick', 'kicking', 'kid', 'kidfriendly', 'kids', 'kind', 'kinda', 'kindle', 'kinds', 'king', 'kitchen', 'kitchenliving', 'knee', 'knew', 'knob', 'knock', 'knocked', 'know', 'knowing', 'knowledgable', 'knowledge', 'knowledgeable', 'known', 'knows', 'kodi', 'korea', 'l', 'la', 'labeled', 'lack', 'lacking', 'lacks', 'ladies', 'lady', 'lag', 'lagging', 'lags', 'lame', 'lamp', 'lamps', 'land', 'language', 'lapsed', 'laptop', 'laptopdesktop', 'large', 'larger', 'las', 'last', 'lastly', 'late', 'lately', 'later', 'lauded', 'laugh', 'laughs', 'laundry', 'law', 'layer', 'laying', 'lazy', 'lcd', 'leaning', 'learn', 'learned', 'learnimg', 'learning', 'learns', 'least', 'leave', 'leaves', 'leaving', 'left', 'leg', 'legally', 'leisure', 'length', 'less', 'lesson', 'let', 'lets', 'level', 'levelsAll', 'libraries', 'library', 'life', 'lifechanging', 'lifetime', 'lifht', 'light', 'light34', 'light34I', 'lightbulb', 'lightening', 'lighting', 'lightning', 'lights', 'lights34', 'lights34as', 'lightswithout', 'lights”', 'like', 'liked', 'likely', 'likes', 'liking', 'lilttle', 'limitations', 'limited', 'line', 'lines', 'link', 'linked', 'linking', 'links', 'linksPlug', 'list', 'listen', 'listened', 'listening', 'listens', 'lists', 'lit', 'literally', 'literate', 'little', 'live', 'lived', 'lives', 'living', 'livingroom', 'llama', 'llegó', 'lm', 'lo', 'load', 'loaded', 'loads', 'local', 'locate', 'located', 'location', 'locations', 'lock', 'locked', 'locks', 'logo', 'logra', 'lol', 'lolI', 'lolol', 'lonely', 'long', 'longer', 'longevity', 'look', 'looked', 'looking', 'looks', 'loose', 'looses', 'loosing', 'lose', 'loses', 'losing', 'loss', 'lost', 'lot', 'lots', 'lotsI', 'loud', 'louder', 'lov', 'love', 'loved', 'lover', 'loves', 'loving', 'low', 'lower', 'luck', 'lucky', 'lullaby', 'lurking', 'luv', 'lve', 'lyric', 'lyrical', 'lyrics', 'machine', 'machines', 'maddening', 'made', 'magically', 'mailed', 'main', 'mainly', 'mainstream', 'maintain', 'maintaining', 'majes', 'major', 'majorthe', 'make', 'makes', 'making', 'makings', 'male', 'man', 'manage', 'management', 'mandatory', 'maneuver', 'manners', 'manual', 'manually', 'manuals', 'manufacturers', 'manufacturersLG', 'many', 'marginal', 'mark', 'marked', 'market', 'marketing', 'marvelous', 'massive', 'match', 'matched', 'material', 'matter', 'maximize', 'may', 'maybe', 'mb', 'meCONS', 'meDo', 'meI', 'meI’m', 'mean', 'meaningful', 'means', 'meant', 'media', 'medical', 'medications', 'mediocre', 'meditation', 'medium', 'meh', 'mejust', 'member', 'members', 'membership', 'memory', 'mention', 'mentioned', 'menu', 'menus', 'meotherwise', 'mere', 'message', 'messages', 'messaging', 'messed', 'met', 'metro', 'mic', 'microphone', 'microphone34', 'microphones', 'mics', 'mic’s', 'mid', 'middle', 'mids', 'might', 'miles', 'million', 'mimic', 'mind', 'mindset', 'mine', 'mini', 'miniPROS', 'minimal', 'minimum', 'minor', 'minorly', 'mins', 'mint', 'minute', 'minutes', 'mirroring', 'misled', 'misplace', 'miss', 'missed', 'missing', 'mistakes', 'misunderstands', 'mixed', 'mobile', 'mobility', 'mode', 'model', 'models', 'modern', 'mom', 'moment', 'moms', 'money', 'monitor', 'month', 'monthly', 'months', 'monthsthey', 'mood', 'morning', 'mostly', 'mother', 'mothershe', 'motivation', 'mount', 'mounted', 'move', 'moved', 'movie', 'movies', 'moving', 'mu', 'much', 'muffled', 'multiple', 'music', 'music34', 'musicI’ve', 'musicThe', 'musicchecking', 'musiclaughter', 'musicprime', 'musicrelated', 'musicthe', 'must', 'musthave', 'mute', 'mybedroom', 'myselfI', 'múltiples', 'n', 'na', 'name', 'named', 'names', 'nana', 'nanny', 'native', 'natural', 'nature', 'navigate', 'navigating', 'navigation', 'naw', 'nd', 'ne', 'near', 'nearly', 'neat', 'necessity', 'need', 'needed', 'needing', 'needna', 'needs', 'negative', 'negativeI', 'neighbors', 'neither', 'nephews', 'nervous', 'nest', 'net', 'netflix', 'network', 'networktechnology', 'never', 'new', 'newer', 'newest', 'newno', 'news', 'newsflash', 'newsits', 'next', 'ni', 'nice', 'niceclear', 'nicely', 'niceneeds', 'nicer', 'nieces', 'nigh', 'night', 'nightmare', 'nights', 'nightstand', 'nil', 'nit', 'nite', 'nobody', 'nobrainer', 'nois', 'noise', 'non', 'none', 'nonschool', 'nonsense', 'nonstop', 'nope', 'norm', 'normal', 'north', 'nos', 'notI', 'note', 'nothing', 'notice', 'noticeable', 'noticed', 'notification', 'notifications', 'notifies', 'novelty', 'nowhere', 'nowi', 'npr', 'nrw', 'nudged', 'number', 'numbers', 'numerous', 'nuts', 'obsessed', 'obtrusive', 'obvious', 'occasion', 'occasional', 'occasionally', 'ocean', 'odd', 'odds', 'ofI', 'offer', 'offered', 'offers', 'office', 'officeIt', 'officially', 'offing', 'often', 'oh', 'ok', 'okay', 'old', 'older', 'oldest', 'olor', 'once34', 'onceProblem', 'one', 'one2', 'oneHonestly', 'oneIt', 'ones', 'onetill', 'onetime', 'online', 'onme', 'onoff', 'onto', 'open', 'opened', 'opening', 'opens', 'opera', 'operate', 'operation', 'operations', 'operator', 'opinion', 'opportunity', 'opt', 'optical', 'option', 'optionMoreover', 'optional', 'options', 'orange', 'orchestra', 'order', 'ordered', 'ordering', 'orders', 'organization', 'organized', 'orientation', 'oriented', 'original', 'originale', 'originally', 'others', 'otherwise', 'outdoor', 'outdoors', 'outlet', 'outlets', 'output', 'outrageous', 'outside', 'outsideThis', 'outsmart', 'outstanding', 'oven', 'overThis', 'overa', 'overall', 'overcoming', 'overdriven', 'overheating', 'overpriced', 'override', 'overtime', 'overview', 'overwhelming', 'owe', 'owlhead', 'owned', 'owner', 'owners', 'ownershipI', 'owning', 'package', 'packagePerhaps', 'packaged', 'packages', 'package—easy', 'packaging', 'packing', 'page', 'pageI', 'pagesThe', 'paid', 'pain', 'pair', 'paired', 'pairing', 'pamphlet', 'pandora', 'pants', 'paper', 'par', 'paranoid', 'pare', 'parents', 'parentseasy', 'park', 'paroduct', 'part', 'participating', 'particular', 'particularly', 'parties', 'partner', 'parts', 'party', 'pass', 'password', 'past', 'patch', 'patience', 'patient', 'patio', 'pattern', 'pause', 'pauses', 'pay', 'payed', 'paying', 'pc', 'películas', 'pen', 'pencil', 'penny', 'people', 'pep', 'per', 'perdió', 'perfect', 'perfectI', 'perfectly', 'perfectlyVery', 'perfecto', 'perform', 'performance', 'performed', 'performing', 'performs', 'period', 'perk', 'permanently', 'persist', 'person', 'personal', 'personality', 'personalization', 'personalized', 'personally', 'persuasion', 'pets', 'phase', 'phenomenal', 'philips', 'phone', 'phoneand', 'phones', 'phonetically', 'photo', 'photographs', 'photos', 'phrase', 'pick', 'picked', 'picking', 'picks', 'pickup', 'picky', 'pics', 'picture', 'pictures', 'piece', 'pin', 'pivoting', 'pixelated', 'place', 'placed', 'placement', 'places', 'placing', 'plain', 'plan', 'plane', 'planning', 'plans', 'platform', 'platforms', 'play', 'played', 'player', 'playing', 'playingI', 'playlist', 'playlistI', 'playlists', 'playlistsWhats', 'plays', 'pleasantly', 'please', 'pleased', 'pleasedSimple', 'pleasure', 'plenty', 'plug', 'plugged', 'plughas', 'plugin', 'plugins', 'plugs', 'plus', 'plusminus', 'pod', 'podcast', 'podcasts', 'point', 'point34', 'pointed', 'pointless', 'pointlessI', 'politics', 'pool', 'poop', 'poor', 'pop', 'porch', 'porchthe', 'port', 'portability', 'portable', 'portion', 'posed', 'position', 'positive', 'positives', 'possibilities', 'possible', 'possibly', 'post', 'poster', 'potential', 'pound', 'power', 'powercord', 'powerful', 'practical', 'practically', 'practicalthan', 'pray', 'preciously', 'precise', 'prefer', 'preferences', 'preferred', 'preinstalled', 'premium', 'prepare', 'preparing', 'present', 'preset', 'press', 'presumably', 'prettier', 'pretty', 'prevent', 'prevents', 'preview', 'previous', 'previously', 'price', 'priced', 'prices', 'pricey', 'pricing', 'primarily', 'primary', 'prime', 'primeday', 'print', 'prior', 'privacy', 'prize', 'pro', 'probably', 'problem', 'problemI', 'problems', 'procedure', 'process', 'produc', 'product', 'productBut', 'productEcho', 'productSuggested', 'productThere', 'producto', 'products', 'productsAnd', 'productwas', 'profiles', 'program', 'programing', 'programmed', 'programming', 'programs', 'project', 'projection', 'projects', 'promised', 'promoting', 'promotion', 'promotionand', 'promp', 'prompt', 'prompts', 'proper', 'properly', 'properlyno', 'props', 'protected', 'protection', 'protocol', 'prove', 'proved', 'provee', 'provide', 'provided', 'provider', 'provides', 'providing', 'psychological', 'pueden', 'pull', 'pulling', 'pulsate', 'pulsed', 'punch', 'puny', 'pup', 'pur', 'purchase', 'purchased', 'purchaser', 'purchases', 'purchasesI', 'purchasing', 'pure', 'purely', 'purpose', 'purposes', 'push', 'pushed', 'put', 'puts', 'putting', 'puzzled', 'quality', 'qualty', 'que', 'quedó', 'queries', 'question', 'questionable', 'questions', 'questionsHands', 'questionsIt’s', 'questionsneed', 'quick', 'quicker', 'quickly', 'quiet', 'quit', 'quite', 'quiz', 'quotnotificationquot', 'r', 'radio', 'radioalarmIt', 'rain', 'rainand', 'rainbow', 'rainsoaked', 'raised', 'rambled', 'ran', 'random', 'randomly', 'range', 'rapidez', 'rare', 'rarely', 'rarity', 'rate', 'rather', 'rating', 'rattlecrackle', 'rattling', 'rcieved', 'reach', 'reached', 'reaching', 'reactive', 'read', 'reader', 'reading', 'readingglasses', 'reads', 'ready', 'real', 'realizando', 'realize', 'realized', 'realizing', 'really', 'reason', 'reasonable', 'reasons', 'reauthorize', 'reboot', 'rebooted', 'rebooting', 'reboots', 'reccomend', 'receivded', 'receive', 'received', 'receiver', 'receivers', 'receiving', 'recent', 'recently', 'reception', 'rechargeable', 'recharged', 'recipe', 'recipes', 'recipient', 'recognition', 'recognize', 'recognizes', 'recomendable', 'recommend', 'recommended', 'recommending', 'reconditioned', 'reconnect', 'reconnected', 'reconnecting', 'record', 'recorded', 'recording', 'recordings', 'recurring', 'red', 'reduced', 'redundant', 'refer', 'reference', 'references', 'referred', 'refers', 'refined', 'refund', 'refunds', 'refurb', 'refurbished', 'refurbishedThought', 'refurbishing', 'refurbs', 'regard', 'regardless', 'regional', 'register', 'registered', 'regret', 'regrets', 'regular', 'regularly', 'related', 'relatively', 'relaxing', 'relay', 'release', 'released', 'reliable', 'relief', 'rely', 'remaining', 'remains', 'remedial', 'remember', 'rememberI', 'remembering', 'remind', 'reminded', 'reminder', 'reminders', 'reminding', 'reminds', 'remorse', 'remote', 'remoteno', 'rename', 'rent', 'renting', 'reoccurring', 'reorder', 'reorders', 'rep', 'repair', 'repairs', 'repeat', 'repeated', 'repeating', 'repeats', 'repertoire', 'replace', 'replaced', 'replacement', 'replaces', 'replacing', 'replied', 'replying', 'report', 'reported', 'reports', 'reportsAlarm', 'reputation', 'request', 'requesting', 'requests', 'require', 'required', 'requires', 'rerecordings', 'research', 'researched', 'researching', 'resembling', 'resemption', 'reset', 'resetting', 'resist', 'resistant', 'resolution', 'resolved', 'resolves', 'respond', 'responding', 'responding34', 'responds', 'response', 'responses', 'responsive', 'responsiveAlexa', 'responsivecan', 'responsiveness', 'respuesta', 'rest', 'restart', 'restrictions', 'restrictive', 'result', 'results', 'resultsThe', 'resume', 'retired', 'return', 'returned', 'returnef', 'returning', 'review', 'reviewing', 'reviews', 'revise', 'rewards', 'rid', 'rides', 'ridiculous', 'ridiculously', 'right', 'ring', 'rings', 'road', 'rock', 'rocks', 'roku', 'roll', 'room', 'roomOther', 'roomYou', 'roomba', 'roomfilling', 'roomkitchen', 'rooms', 'rotate', 'rotates', 'rotation', 'rotationsSwipe', 'rough', 'round', 'route', 'router', 'routine', 'routinely', 'routines', 'row', 'rub', 'rubber', 'run', 'running', 'runs', 'sad', 'safe', 'said', 'sale', 'sales', 'salsa', 'sang', 'sanity', 'satellite', 'satisfied', 'satisified', 'save', 'saved', 'saving', 'savvy', 'savy', 'saw', 'say', 'saying', 'says', 'saysbut', 'scared', 'scenes', 'scent', 'schedule', 'scheduled', 'schedules', 'scheduling', 'school', 'schoolThe', 'science', 'scooped', 'scores', 'scoured', 'scratch', 'scratched', 'screamig', 'screaming', 'screen', 'screen34', 'screenMaybe', 'screenSelect', 'screenless', 'screens', 'screensAnother', 'screw', 'script', 'scroll', 'scrolling', 'scrolls', 'se', 'sealed', 'seamless', 'seamlessNOT', 'seamlessly', 'seams', 'search', 'searches', 'searching', 'second', 'seconds', 'secretary', 'section', 'security', 'see', 'seeing', 'seem', 'seemed', 'seems', 'seen', 'seldom', 'select', 'selection', 'selections', 'self', 'selfies', 'sell', 'selling', 'semana', 'semi', 'send', 'sending', 'sends', 'senior', 'sense', 'sensitive', 'sensitivity', 'sent', 'sentence', 'separate', 'separately', 'seprately', 'series', 'serious', 'seriously', 'serve', 'served', 'service', 'services', 'servicesCant', 'set', 'sets', 'setting', 'settings', 'settingsHome', 'settins', 'settle', 'setup', 'setups', 'setup”', 'sever', 'several', 'sewing', 'shaking', 'shape', 'sharing', 'sharp', 'shell', 'shelled', 'shes', 'she’ll', 'she’s', 'shifting', 'shine', 'shining', 'ship', 'shipment', 'shipped', 'shipping', 'shippingthank', 'shocked', 'shooting', 'shop', 'shopping', 'shoppingto', 'short', 'shortcomings', 'shorted', 'shorter', 'shortly', 'shouldnt', 'shouldn’t', 'should’ve', 'shout', 'show', 'showI', 'shower', 'showering', 'showing', 'shown', 'showno', 'shows', 'showsIt', 'sht', 'shuffle', 'shut', 'shuts', 'shutting', 'sibling', 'side', 'sigh', 'sight', 'sign', 'silly', 'silver', 'similar', 'simple', 'simpler', 'simplicity', 'simplified', 'simplify', 'simply', 'simultaneously', 'sin', 'since', 'sing', 'singing', 'single', 'sink', 'sinqued', 'siri', 'sister', 'sit', 'site', 'sits', 'sitting', 'situations', 'six', 'size', 'sizeMy', 'sized', 'skeptical', 'skill', 'skills', 'skillsjust', 'skips', 'sleek', 'sleep', 'sleeper', 'sleeping', 'sleeps', 'sleepy', 'sliced', 'slide', 'slideshow', 'slight', 'slightly', 'slow', 'slowly', 'small', 'smaller', 'smart', 'smartbon', 'smarter', 'smarthome', 'smartphone', 'smartthing', 'smells', 'smooth', 'smoothly', 'snap', 'snarls', 'sneaky', 'snooze', 'snoozed', 'snoozes', 'soaking', 'soccer', 'social', 'socket', 'sofa', 'soft', 'softly', 'software', 'sold', 'solely', 'solid', 'solo', 'solución', 'solution', 'solved', 'solves', 'somebody', 'somehow', 'someone', 'something', 'sometime', 'sometimes', 'somewhat', 'son', 'song', 'songs', 'songs34', 'songsnot', 'soninlaw', 'sons', 'soon', 'sooner', 'sooo', 'sooooo', 'sooooooo', 'sorely', 'sorprendió', 'sorry', 'sort', 'sortof', 'soso', 'sound', 'soundGood', 'soundI', 'soundIt', 'soundWhat', 'soundbar', 'sounded', 'sounding', 'soundlink', 'sounds', 'source', 'sources', 'southern', 'spa', 'space', 'spaces', 'spacethe', 'spacing', 'spam', 'span', 'spanking', 'spark', 'sparks', 'speak', 'speaker', 'speakerI', 'speakers', 'speakerstereo', 'speaking', 'speaknspell', 'speaks', 'speaktakes', 'special', 'specially', 'specific', 'specifically', 'specifily', 'specify', 'specifying', 'specs', 'spectacular', 'speech', 'speed', 'speeds', 'speedy', 'spell', 'spelling', 'spend', 'spending', 'spent', 'spielI’m', 'spilled', 'spin', 'spins', 'split', 'spoiled', 'spoke', 'spoken', 'sport', 'sports', 'spot', 'spotify', 'spots', 'spouse', 'sprinkler', 'spur', 'spying', 'squarerectangular', 'squirms', 'sry', 'staff', 'stage', 'staging', 'stairs', 'stand', 'standalone', 'standard', 'standards', 'standing', 'stands', 'standsoutlikeasorethumb', 'star', 'stars', 'starsI', 'start', 'started', 'starting', 'starts', 'stat', 'state', 'statement', 'states', 'station', 'stationary', 'stationed', 'stations', 'stay', 'stayed', 'staying', 'steaming', 'steep', 'stellar', 'step', 'stepMy', 'steps', 'stereo', 'stick', 'stickWorks', 'sticks', 'still', 'stimulus', 'stinks', 'stoled', 'stop', 'stopped', 'stops', 'storage', 'store', 'stories', 'storm', 'story', 'stove', 'straight', 'straightforward', 'strange', 'stream', 'streaming', 'streamline', 'strictly', 'string', 'strips', 'strong', 'strongly', 'structure', 'struggle', 'stubborn', 'stuck', 'students', 'stuff', 'stump', 'stupid', 'sturdy', 'style', 'stylish', 'su', 'sub', 'subject', 'subpar', 'subscriber', 'subscribing', 'subscription', 'subscriptionDoes', 'subscriptions', 'subsequently', 'substitute', 'success', 'successful', 'successfully', 'successor', 'suck', 'sucks', 'suffer', 'sufficient', 'suggest', 'suggested', 'suggesting', 'suggestions', 'suggests', 'suitable', 'summoning', 'sunroom', 'super', 'superb', 'superior', 'supplied', 'supplying', 'support', 'supported', 'supporting', 'supports', 'suppose', 'supposed', 'sure', 'sure34', 'surely', 'surface', 'surprise', 'surprised', 'surprising', 'surprisingly', 'surroundlike', 'survived', 'sweet', 'swell', 'swipe', 'swiping', 'switch', 'switched', 'switches', 'switching', 'sync', 'syncd', 'synced', 'synching', 'syncing', 'system', 'systems', 'table', 'tablet', 'tablets', 'tad', 'tailor', 'take', 'taken', 'takes', 'taking', 'tales', 'talk', 'talked', 'talking', 'talks', 'tall', 'tap', 'tape', 'taping', 'tapped', 'task', 'taskThe', 'tasks', 'teacher', 'teams', 'tear', 'tec', 'tech', 'techie', 'technical', 'technically', 'technicians', 'techno', 'technologically', 'technology', 'technology34', 'technologyI', 'technology”', 'techwe’re', 'teenagers', 'teeth', 'telephone', 'television', 'tell', 'telling', 'tells', 'temp', 'temperature', 'temps', 'tempting', 'ten', 'tend', 'tends', 'terminology', 'terrible', 'terrificI', 'test', 'tested', 'testing', 'text', 'texts', 'tg', 'tge', 'thank', 'thanks', 'that34', 'thatI', 'thatWe', 'thats', 'that’s', 'theEcho', 'theater', 'theories', 'therefore', 'theres', 'there’s', 'thermostat', 'thermostatand', 'thestandbase', 'thete', 'theyre', 'thing', 'thingmy', 'things', 'thingsBUY', 'thingsIt', 'think', 'thinking', 'third', 'thirdparty', 'thisWon’t', 'thongs', 'thorough', 'thoroughly', 'thou', 'though', 'thought', 'thoughts', 'thousands', 'three', 'thrilled', 'throughout', 'throw', 'thrown', 'thru', 'thunderstorm', 'ti', 'tickled', 'tiempohorainformación', 'tiene', 'ties', 'till', 'time', 'timer', 'timermusic', 'timers', 'timersthe', 'times', 'timeworks', 'time😔', 'timing', 'tin', 'ting', 'tinker', 'tinkering', 'tinny', 'tiny', 'tipping', 'tips', 'tired', 'title', 'tocomplain', 'toda', 'today', 'toddler', 'together', 'toilet', 'told', 'tomorrows', 'tomy', 'ton', 'tones', 'tons', 'took', 'tool', 'tools', 'tooth', 'top', 'topic', 'total', 'totallly', 'totally', 'touch', 'touching', 'touted', 'tou’ll', 'toward', 'towards', 'tower', 'town', 'toy', 'tplink', 'track', 'traditional', 'traffic', 'trailer', 'trailers', 'trained', 'trainees', 'training', 'transferring', 'travel', 'traveling', 'travelling', 'través', 'treadmill', 'treat', 'treble', 'trek', 'trial', 'tricks', 'tricky', 'tried', 'tries', 'trigger', 'trip', 'trivia', 'trouble', 'troublefree', 'troubleshooting', 'troublesome', 'troubling', 'true', 'trueSetting', 'truly', 'trust', 'try', 'try34', 'trying', 'try”', 'tube', 'tune', 'tunein', 'tunes', 'turn', 'turned', 'turning', 'turns', 'tv', 'tvit', 'tweeter', 'tweeters', 'twice', 'twist', 'twitter', 'two', 'twoThis', 'ty', 'type', 'typeThe', 'typed', 'types', 'typical', 'typically', 'typing', 'títulos', 'u', 'udefulness', 'ugly', 'uhyour', 'unable', 'unavailable', 'unbelievable', 'uncle', 'understand', 'understandIm', 'understanding', 'understands', 'understood', 'unexpected', 'unfortunately', 'unhappy', 'unhelpful', 'unico', 'unimportant', 'uninstallreinstallreconfigure', 'unique', 'unit', 'unit2', 'units', 'universal', 'unless', 'unlike', 'unlimited', 'unlocking', 'unnannounced', 'unnecessary', 'unobtrusive', 'unplug', 'unplugged', 'unresponsive', 'unsettling', 'untapped', 'unusable1', 'unused', 'unwitty', 'unwrapped', 'upA', 'upcoming', 'update', 'updated', 'updates', 'updatesIt’s', 'updating', 'updown', 'upgrade', 'upgraded', 'upgrades', 'upgrading', 'upgreade', 'upload', 'uplove', 'upon', 'upset', 'upsetting', 'upstairs', 'up”', 'urge', 'us', 'usable', 'usage', 'usde', 'use', 'useI', 'useamazing', 'used', 'useful', 'usefulHalf', 'usejust', 'useless', 'user', 'users', 'uses', 'usesSometimes', 'using', 'usual', 'usually', 'utility', 'utilización', 'utilize', 'utilizing', 'vacation', 'vacations', 'vacuum', 'value', 'variant', 'variety', 'various', 'vast', 'vehicle', 'verbal', 'verbalize', 'verbally', 'versa', 'versaI’d', 'versatile', 'versatility', 'verse', 'verses', 'version', 'versions', 'versus', 'vetted', 'vez', 'via', 'vibrating', 'vice', 'viceo', 'video', 'videos', 'videoseven', 'view', 'viewed', 'viewing', 'viewingIt', 'views', 'vintage', 'viola', 'virtual', 'virtually', 'visa', 'visible', 'vision', 'visiting', 'visits', 'visual', 'visuals', 'voice', 'voicecontrollable', 'voices', 'voltage', 'volume', 'volumeYou', 'vs', 'w', 'wait', 'waited', 'waiting', 'waits', 'wake', 'wakes', 'wakeup', 'wakeword', 'waking', 'walk', 'walked', 'walking', 'walks', 'wall', 'walls', 'want', 'wantHad', 'wantWe', 'wanted', 'wanting', 'warehouse', 'warning', 'warns', 'warranty', 'wasconcerned', 'wasnt', 'wasn’t', 'waste', 'wasted', 'watch', 'watched', 'watching', 'water', 'waterIts', 'wattage', 'wave', 'waveIt', 'way', 'ways', 'weak', 'wealth', 'wear', 'weary', 'weather', 'weather34', 'weathera', 'web', 'website', 'websites', 'wedding', 'week', 'weekday', 'weekend', 'weekly', 'weeks', 'weight', 'weird', 'welcome', 'well', 'wellAll', 'wellFour', 'wellGood', 'wellequalized', 'wellintegrated', 'went', 'werent', 'weve', 'we’ll', 'we’re', 'whatever', 'whats', 'whatsoever', 'what’s', 'whe', 'whenever', 'whenif', 'wherever', 'whether', 'whisper', 'whistles', 'white', 'whole', 'whos', 'whose', 'wide', 'widespread', 'wife', 'wifi', 'wikipedia', 'willing', 'wind', 'window', 'winds', 'wireless', 'wish', 'wished', 'wishing', 'withDislikes', 'within', 'without', 'woke', 'woken', 'wonder', 'wonderful', 'wonderfully', 'wonders', 'wont', 'won’t', 'woofer', 'woofers', 'word', 'words', 'work', 'workarounds', 'workat', 'worked', 'working', 'workingAlexa', 'working—called', 'workout', 'works', 'world', 'worried', 'worry', 'worseDon’t', 'worst', 'worth', 'worthless', 'would', 'wouldnt', 'wouldn’t', 'would’ve', 'writes', 'writing', 'wrong', 'wrong”', 'xm', 'yale', 'yard', 'yards', 'yeah', 'year', 'yearold', 'years', 'yell', 'yelling', 'yellow', 'yes', 'yesterday', 'yet', 'you1', 'youd', 'youll', 'young', 'younger', 'youngest', 'youre', 'youtube', 'you’d', 'you’re', 'you’ve', 'yr', 'yrs', 'z', 'zero', 'zigbee', 'zonkedout', 'zwave', 'zzzz', 'í', 'útil', '—', '‘Drop', '‘appliance’', '‘technically', '‘til', '“', '“Alexa', '“Alexa”', '“Echo”', '“Hey', '“Jaws”', '“OK', '“apps”', '“check', '“dot”', '“drop', '“dropin”', '“dropping', '“free”', '“inactivity”', '“learn”', '“live”version', '“name”', '“no”', '“oh', '“oops', '“plusprimeetc”', '“ready', '“smart', '“themes”', '“things', '“updated', '“wake', '“wake”', '“white”', '“your”', '⏰', '❤', '⭐⭐⭐⭐⭐', '🎶', '👍', '👍🏻', '👍🏾', '😁😁😁😁', '😂', '😄😄', '😉', '😊', '😍', '😍💋💋💋💋❤', '😎', '😏', '😑', '😬', '😳', '🤓']\n"
     ]
    }
   ],
   "source": [
    "print(vectorizer.get_feature_names())"
   ]
  },
  {
   "cell_type": "code",
   "execution_count": 46,
   "metadata": {},
   "outputs": [
    {
     "data": {
      "text/plain": [
       "(3150, 5211)"
      ]
     },
     "execution_count": 46,
     "metadata": {},
     "output_type": "execute_result"
    }
   ],
   "source": [
    "X.shape"
   ]
  },
  {
   "cell_type": "code",
   "execution_count": 47,
   "metadata": {},
   "outputs": [],
   "source": [
    "data_n = data_n.drop(['verified_reviews'], axis=1)"
   ]
  },
  {
   "cell_type": "code",
   "execution_count": 48,
   "metadata": {},
   "outputs": [],
   "source": [
    "reviews = pd.DataFrame(X)"
   ]
  },
  {
   "cell_type": "code",
   "execution_count": 49,
   "metadata": {},
   "outputs": [],
   "source": [
    "data_reviews = pd.concat([data_n, reviews], axis=1)"
   ]
  },
  {
   "cell_type": "code",
   "execution_count": 50,
   "metadata": {},
   "outputs": [
    {
     "data": {
      "text/html": [
       "<div>\n",
       "<style scoped>\n",
       "    .dataframe tbody tr th:only-of-type {\n",
       "        vertical-align: middle;\n",
       "    }\n",
       "\n",
       "    .dataframe tbody tr th {\n",
       "        vertical-align: top;\n",
       "    }\n",
       "\n",
       "    .dataframe thead th {\n",
       "        text-align: right;\n",
       "    }\n",
       "</style>\n",
       "<table border=\"1\" class=\"dataframe\">\n",
       "  <thead>\n",
       "    <tr style=\"text-align: right;\">\n",
       "      <th></th>\n",
       "      <th>feedback</th>\n",
       "      <th>Black  Dot</th>\n",
       "      <th>Black  Plus</th>\n",
       "      <th>Black  Show</th>\n",
       "      <th>Black  Spot</th>\n",
       "      <th>Charcoal Fabric</th>\n",
       "      <th>Configuration: Fire TV Stick</th>\n",
       "      <th>Heather Gray Fabric</th>\n",
       "      <th>Oak Finish</th>\n",
       "      <th>Sandstone Fabric</th>\n",
       "      <th>...</th>\n",
       "      <th>5201</th>\n",
       "      <th>5202</th>\n",
       "      <th>5203</th>\n",
       "      <th>5204</th>\n",
       "      <th>5205</th>\n",
       "      <th>5206</th>\n",
       "      <th>5207</th>\n",
       "      <th>5208</th>\n",
       "      <th>5209</th>\n",
       "      <th>5210</th>\n",
       "    </tr>\n",
       "  </thead>\n",
       "  <tbody>\n",
       "    <tr>\n",
       "      <th>0</th>\n",
       "      <td>1</td>\n",
       "      <td>0</td>\n",
       "      <td>0</td>\n",
       "      <td>0</td>\n",
       "      <td>0</td>\n",
       "      <td>1</td>\n",
       "      <td>0</td>\n",
       "      <td>0</td>\n",
       "      <td>0</td>\n",
       "      <td>0</td>\n",
       "      <td>...</td>\n",
       "      <td>0</td>\n",
       "      <td>0</td>\n",
       "      <td>0</td>\n",
       "      <td>0</td>\n",
       "      <td>0</td>\n",
       "      <td>0</td>\n",
       "      <td>0</td>\n",
       "      <td>0</td>\n",
       "      <td>0</td>\n",
       "      <td>0</td>\n",
       "    </tr>\n",
       "    <tr>\n",
       "      <th>1</th>\n",
       "      <td>1</td>\n",
       "      <td>0</td>\n",
       "      <td>0</td>\n",
       "      <td>0</td>\n",
       "      <td>0</td>\n",
       "      <td>1</td>\n",
       "      <td>0</td>\n",
       "      <td>0</td>\n",
       "      <td>0</td>\n",
       "      <td>0</td>\n",
       "      <td>...</td>\n",
       "      <td>0</td>\n",
       "      <td>0</td>\n",
       "      <td>0</td>\n",
       "      <td>0</td>\n",
       "      <td>0</td>\n",
       "      <td>0</td>\n",
       "      <td>0</td>\n",
       "      <td>0</td>\n",
       "      <td>0</td>\n",
       "      <td>0</td>\n",
       "    </tr>\n",
       "    <tr>\n",
       "      <th>2</th>\n",
       "      <td>1</td>\n",
       "      <td>0</td>\n",
       "      <td>0</td>\n",
       "      <td>0</td>\n",
       "      <td>0</td>\n",
       "      <td>0</td>\n",
       "      <td>0</td>\n",
       "      <td>0</td>\n",
       "      <td>0</td>\n",
       "      <td>0</td>\n",
       "      <td>...</td>\n",
       "      <td>0</td>\n",
       "      <td>0</td>\n",
       "      <td>0</td>\n",
       "      <td>0</td>\n",
       "      <td>0</td>\n",
       "      <td>0</td>\n",
       "      <td>0</td>\n",
       "      <td>0</td>\n",
       "      <td>0</td>\n",
       "      <td>0</td>\n",
       "    </tr>\n",
       "    <tr>\n",
       "      <th>3</th>\n",
       "      <td>1</td>\n",
       "      <td>0</td>\n",
       "      <td>0</td>\n",
       "      <td>0</td>\n",
       "      <td>0</td>\n",
       "      <td>1</td>\n",
       "      <td>0</td>\n",
       "      <td>0</td>\n",
       "      <td>0</td>\n",
       "      <td>0</td>\n",
       "      <td>...</td>\n",
       "      <td>0</td>\n",
       "      <td>0</td>\n",
       "      <td>0</td>\n",
       "      <td>0</td>\n",
       "      <td>0</td>\n",
       "      <td>0</td>\n",
       "      <td>0</td>\n",
       "      <td>0</td>\n",
       "      <td>0</td>\n",
       "      <td>0</td>\n",
       "    </tr>\n",
       "    <tr>\n",
       "      <th>4</th>\n",
       "      <td>1</td>\n",
       "      <td>0</td>\n",
       "      <td>0</td>\n",
       "      <td>0</td>\n",
       "      <td>0</td>\n",
       "      <td>1</td>\n",
       "      <td>0</td>\n",
       "      <td>0</td>\n",
       "      <td>0</td>\n",
       "      <td>0</td>\n",
       "      <td>...</td>\n",
       "      <td>0</td>\n",
       "      <td>0</td>\n",
       "      <td>0</td>\n",
       "      <td>0</td>\n",
       "      <td>0</td>\n",
       "      <td>0</td>\n",
       "      <td>0</td>\n",
       "      <td>0</td>\n",
       "      <td>0</td>\n",
       "      <td>0</td>\n",
       "    </tr>\n",
       "    <tr>\n",
       "      <th>...</th>\n",
       "      <td>...</td>\n",
       "      <td>...</td>\n",
       "      <td>...</td>\n",
       "      <td>...</td>\n",
       "      <td>...</td>\n",
       "      <td>...</td>\n",
       "      <td>...</td>\n",
       "      <td>...</td>\n",
       "      <td>...</td>\n",
       "      <td>...</td>\n",
       "      <td>...</td>\n",
       "      <td>...</td>\n",
       "      <td>...</td>\n",
       "      <td>...</td>\n",
       "      <td>...</td>\n",
       "      <td>...</td>\n",
       "      <td>...</td>\n",
       "      <td>...</td>\n",
       "      <td>...</td>\n",
       "      <td>...</td>\n",
       "      <td>...</td>\n",
       "    </tr>\n",
       "    <tr>\n",
       "      <th>3145</th>\n",
       "      <td>1</td>\n",
       "      <td>1</td>\n",
       "      <td>0</td>\n",
       "      <td>0</td>\n",
       "      <td>0</td>\n",
       "      <td>0</td>\n",
       "      <td>0</td>\n",
       "      <td>0</td>\n",
       "      <td>0</td>\n",
       "      <td>0</td>\n",
       "      <td>...</td>\n",
       "      <td>0</td>\n",
       "      <td>0</td>\n",
       "      <td>0</td>\n",
       "      <td>0</td>\n",
       "      <td>0</td>\n",
       "      <td>0</td>\n",
       "      <td>0</td>\n",
       "      <td>0</td>\n",
       "      <td>0</td>\n",
       "      <td>0</td>\n",
       "    </tr>\n",
       "    <tr>\n",
       "      <th>3146</th>\n",
       "      <td>1</td>\n",
       "      <td>1</td>\n",
       "      <td>0</td>\n",
       "      <td>0</td>\n",
       "      <td>0</td>\n",
       "      <td>0</td>\n",
       "      <td>0</td>\n",
       "      <td>0</td>\n",
       "      <td>0</td>\n",
       "      <td>0</td>\n",
       "      <td>...</td>\n",
       "      <td>0</td>\n",
       "      <td>0</td>\n",
       "      <td>0</td>\n",
       "      <td>0</td>\n",
       "      <td>0</td>\n",
       "      <td>0</td>\n",
       "      <td>0</td>\n",
       "      <td>0</td>\n",
       "      <td>0</td>\n",
       "      <td>0</td>\n",
       "    </tr>\n",
       "    <tr>\n",
       "      <th>3147</th>\n",
       "      <td>1</td>\n",
       "      <td>1</td>\n",
       "      <td>0</td>\n",
       "      <td>0</td>\n",
       "      <td>0</td>\n",
       "      <td>0</td>\n",
       "      <td>0</td>\n",
       "      <td>0</td>\n",
       "      <td>0</td>\n",
       "      <td>0</td>\n",
       "      <td>...</td>\n",
       "      <td>0</td>\n",
       "      <td>0</td>\n",
       "      <td>0</td>\n",
       "      <td>0</td>\n",
       "      <td>0</td>\n",
       "      <td>0</td>\n",
       "      <td>0</td>\n",
       "      <td>0</td>\n",
       "      <td>0</td>\n",
       "      <td>0</td>\n",
       "    </tr>\n",
       "    <tr>\n",
       "      <th>3148</th>\n",
       "      <td>1</td>\n",
       "      <td>0</td>\n",
       "      <td>0</td>\n",
       "      <td>0</td>\n",
       "      <td>0</td>\n",
       "      <td>0</td>\n",
       "      <td>0</td>\n",
       "      <td>0</td>\n",
       "      <td>0</td>\n",
       "      <td>0</td>\n",
       "      <td>...</td>\n",
       "      <td>0</td>\n",
       "      <td>0</td>\n",
       "      <td>0</td>\n",
       "      <td>0</td>\n",
       "      <td>0</td>\n",
       "      <td>0</td>\n",
       "      <td>0</td>\n",
       "      <td>0</td>\n",
       "      <td>0</td>\n",
       "      <td>0</td>\n",
       "    </tr>\n",
       "    <tr>\n",
       "      <th>3149</th>\n",
       "      <td>1</td>\n",
       "      <td>1</td>\n",
       "      <td>0</td>\n",
       "      <td>0</td>\n",
       "      <td>0</td>\n",
       "      <td>0</td>\n",
       "      <td>0</td>\n",
       "      <td>0</td>\n",
       "      <td>0</td>\n",
       "      <td>0</td>\n",
       "      <td>...</td>\n",
       "      <td>0</td>\n",
       "      <td>0</td>\n",
       "      <td>0</td>\n",
       "      <td>0</td>\n",
       "      <td>0</td>\n",
       "      <td>0</td>\n",
       "      <td>0</td>\n",
       "      <td>0</td>\n",
       "      <td>0</td>\n",
       "      <td>0</td>\n",
       "    </tr>\n",
       "  </tbody>\n",
       "</table>\n",
       "<p>3150 rows × 5227 columns</p>\n",
       "</div>"
      ],
      "text/plain": [
       "      feedback  Black  Dot  Black  Plus  Black  Show  Black  Spot  \\\n",
       "0            1           0            0            0            0   \n",
       "1            1           0            0            0            0   \n",
       "2            1           0            0            0            0   \n",
       "3            1           0            0            0            0   \n",
       "4            1           0            0            0            0   \n",
       "...        ...         ...          ...          ...          ...   \n",
       "3145         1           1            0            0            0   \n",
       "3146         1           1            0            0            0   \n",
       "3147         1           1            0            0            0   \n",
       "3148         1           0            0            0            0   \n",
       "3149         1           1            0            0            0   \n",
       "\n",
       "      Charcoal Fabric   Configuration: Fire TV Stick  Heather Gray Fabric   \\\n",
       "0                    1                             0                     0   \n",
       "1                    1                             0                     0   \n",
       "2                    0                             0                     0   \n",
       "3                    1                             0                     0   \n",
       "4                    1                             0                     0   \n",
       "...                ...                           ...                   ...   \n",
       "3145                 0                             0                     0   \n",
       "3146                 0                             0                     0   \n",
       "3147                 0                             0                     0   \n",
       "3148                 0                             0                     0   \n",
       "3149                 0                             0                     0   \n",
       "\n",
       "      Oak Finish   Sandstone Fabric   ...  5201  5202  5203  5204  5205  5206  \\\n",
       "0               0                  0  ...     0     0     0     0     0     0   \n",
       "1               0                  0  ...     0     0     0     0     0     0   \n",
       "2               0                  0  ...     0     0     0     0     0     0   \n",
       "3               0                  0  ...     0     0     0     0     0     0   \n",
       "4               0                  0  ...     0     0     0     0     0     0   \n",
       "...           ...                ...  ...   ...   ...   ...   ...   ...   ...   \n",
       "3145            0                  0  ...     0     0     0     0     0     0   \n",
       "3146            0                  0  ...     0     0     0     0     0     0   \n",
       "3147            0                  0  ...     0     0     0     0     0     0   \n",
       "3148            0                  0  ...     0     0     0     0     0     0   \n",
       "3149            0                  0  ...     0     0     0     0     0     0   \n",
       "\n",
       "      5207  5208  5209  5210  \n",
       "0        0     0     0     0  \n",
       "1        0     0     0     0  \n",
       "2        0     0     0     0  \n",
       "3        0     0     0     0  \n",
       "4        0     0     0     0  \n",
       "...    ...   ...   ...   ...  \n",
       "3145     0     0     0     0  \n",
       "3146     0     0     0     0  \n",
       "3147     0     0     0     0  \n",
       "3148     0     0     0     0  \n",
       "3149     0     0     0     0  \n",
       "\n",
       "[3150 rows x 5227 columns]"
      ]
     },
     "execution_count": 50,
     "metadata": {},
     "output_type": "execute_result"
    }
   ],
   "source": [
    "data_reviews"
   ]
  },
  {
   "cell_type": "code",
   "execution_count": 51,
   "metadata": {},
   "outputs": [],
   "source": [
    "X = data_reviews.drop(['feedback'] , axis=1)"
   ]
  },
  {
   "cell_type": "code",
   "execution_count": 53,
   "metadata": {},
   "outputs": [
    {
     "data": {
      "text/html": [
       "<div>\n",
       "<style scoped>\n",
       "    .dataframe tbody tr th:only-of-type {\n",
       "        vertical-align: middle;\n",
       "    }\n",
       "\n",
       "    .dataframe tbody tr th {\n",
       "        vertical-align: top;\n",
       "    }\n",
       "\n",
       "    .dataframe thead th {\n",
       "        text-align: right;\n",
       "    }\n",
       "</style>\n",
       "<table border=\"1\" class=\"dataframe\">\n",
       "  <thead>\n",
       "    <tr style=\"text-align: right;\">\n",
       "      <th></th>\n",
       "      <th>Black  Dot</th>\n",
       "      <th>Black  Plus</th>\n",
       "      <th>Black  Show</th>\n",
       "      <th>Black  Spot</th>\n",
       "      <th>Charcoal Fabric</th>\n",
       "      <th>Configuration: Fire TV Stick</th>\n",
       "      <th>Heather Gray Fabric</th>\n",
       "      <th>Oak Finish</th>\n",
       "      <th>Sandstone Fabric</th>\n",
       "      <th>Walnut Finish</th>\n",
       "      <th>...</th>\n",
       "      <th>5201</th>\n",
       "      <th>5202</th>\n",
       "      <th>5203</th>\n",
       "      <th>5204</th>\n",
       "      <th>5205</th>\n",
       "      <th>5206</th>\n",
       "      <th>5207</th>\n",
       "      <th>5208</th>\n",
       "      <th>5209</th>\n",
       "      <th>5210</th>\n",
       "    </tr>\n",
       "  </thead>\n",
       "  <tbody>\n",
       "    <tr>\n",
       "      <th>0</th>\n",
       "      <td>0</td>\n",
       "      <td>0</td>\n",
       "      <td>0</td>\n",
       "      <td>0</td>\n",
       "      <td>1</td>\n",
       "      <td>0</td>\n",
       "      <td>0</td>\n",
       "      <td>0</td>\n",
       "      <td>0</td>\n",
       "      <td>0</td>\n",
       "      <td>...</td>\n",
       "      <td>0</td>\n",
       "      <td>0</td>\n",
       "      <td>0</td>\n",
       "      <td>0</td>\n",
       "      <td>0</td>\n",
       "      <td>0</td>\n",
       "      <td>0</td>\n",
       "      <td>0</td>\n",
       "      <td>0</td>\n",
       "      <td>0</td>\n",
       "    </tr>\n",
       "    <tr>\n",
       "      <th>1</th>\n",
       "      <td>0</td>\n",
       "      <td>0</td>\n",
       "      <td>0</td>\n",
       "      <td>0</td>\n",
       "      <td>1</td>\n",
       "      <td>0</td>\n",
       "      <td>0</td>\n",
       "      <td>0</td>\n",
       "      <td>0</td>\n",
       "      <td>0</td>\n",
       "      <td>...</td>\n",
       "      <td>0</td>\n",
       "      <td>0</td>\n",
       "      <td>0</td>\n",
       "      <td>0</td>\n",
       "      <td>0</td>\n",
       "      <td>0</td>\n",
       "      <td>0</td>\n",
       "      <td>0</td>\n",
       "      <td>0</td>\n",
       "      <td>0</td>\n",
       "    </tr>\n",
       "    <tr>\n",
       "      <th>2</th>\n",
       "      <td>0</td>\n",
       "      <td>0</td>\n",
       "      <td>0</td>\n",
       "      <td>0</td>\n",
       "      <td>0</td>\n",
       "      <td>0</td>\n",
       "      <td>0</td>\n",
       "      <td>0</td>\n",
       "      <td>0</td>\n",
       "      <td>1</td>\n",
       "      <td>...</td>\n",
       "      <td>0</td>\n",
       "      <td>0</td>\n",
       "      <td>0</td>\n",
       "      <td>0</td>\n",
       "      <td>0</td>\n",
       "      <td>0</td>\n",
       "      <td>0</td>\n",
       "      <td>0</td>\n",
       "      <td>0</td>\n",
       "      <td>0</td>\n",
       "    </tr>\n",
       "    <tr>\n",
       "      <th>3</th>\n",
       "      <td>0</td>\n",
       "      <td>0</td>\n",
       "      <td>0</td>\n",
       "      <td>0</td>\n",
       "      <td>1</td>\n",
       "      <td>0</td>\n",
       "      <td>0</td>\n",
       "      <td>0</td>\n",
       "      <td>0</td>\n",
       "      <td>0</td>\n",
       "      <td>...</td>\n",
       "      <td>0</td>\n",
       "      <td>0</td>\n",
       "      <td>0</td>\n",
       "      <td>0</td>\n",
       "      <td>0</td>\n",
       "      <td>0</td>\n",
       "      <td>0</td>\n",
       "      <td>0</td>\n",
       "      <td>0</td>\n",
       "      <td>0</td>\n",
       "    </tr>\n",
       "    <tr>\n",
       "      <th>4</th>\n",
       "      <td>0</td>\n",
       "      <td>0</td>\n",
       "      <td>0</td>\n",
       "      <td>0</td>\n",
       "      <td>1</td>\n",
       "      <td>0</td>\n",
       "      <td>0</td>\n",
       "      <td>0</td>\n",
       "      <td>0</td>\n",
       "      <td>0</td>\n",
       "      <td>...</td>\n",
       "      <td>0</td>\n",
       "      <td>0</td>\n",
       "      <td>0</td>\n",
       "      <td>0</td>\n",
       "      <td>0</td>\n",
       "      <td>0</td>\n",
       "      <td>0</td>\n",
       "      <td>0</td>\n",
       "      <td>0</td>\n",
       "      <td>0</td>\n",
       "    </tr>\n",
       "    <tr>\n",
       "      <th>...</th>\n",
       "      <td>...</td>\n",
       "      <td>...</td>\n",
       "      <td>...</td>\n",
       "      <td>...</td>\n",
       "      <td>...</td>\n",
       "      <td>...</td>\n",
       "      <td>...</td>\n",
       "      <td>...</td>\n",
       "      <td>...</td>\n",
       "      <td>...</td>\n",
       "      <td>...</td>\n",
       "      <td>...</td>\n",
       "      <td>...</td>\n",
       "      <td>...</td>\n",
       "      <td>...</td>\n",
       "      <td>...</td>\n",
       "      <td>...</td>\n",
       "      <td>...</td>\n",
       "      <td>...</td>\n",
       "      <td>...</td>\n",
       "      <td>...</td>\n",
       "    </tr>\n",
       "    <tr>\n",
       "      <th>3145</th>\n",
       "      <td>1</td>\n",
       "      <td>0</td>\n",
       "      <td>0</td>\n",
       "      <td>0</td>\n",
       "      <td>0</td>\n",
       "      <td>0</td>\n",
       "      <td>0</td>\n",
       "      <td>0</td>\n",
       "      <td>0</td>\n",
       "      <td>0</td>\n",
       "      <td>...</td>\n",
       "      <td>0</td>\n",
       "      <td>0</td>\n",
       "      <td>0</td>\n",
       "      <td>0</td>\n",
       "      <td>0</td>\n",
       "      <td>0</td>\n",
       "      <td>0</td>\n",
       "      <td>0</td>\n",
       "      <td>0</td>\n",
       "      <td>0</td>\n",
       "    </tr>\n",
       "    <tr>\n",
       "      <th>3146</th>\n",
       "      <td>1</td>\n",
       "      <td>0</td>\n",
       "      <td>0</td>\n",
       "      <td>0</td>\n",
       "      <td>0</td>\n",
       "      <td>0</td>\n",
       "      <td>0</td>\n",
       "      <td>0</td>\n",
       "      <td>0</td>\n",
       "      <td>0</td>\n",
       "      <td>...</td>\n",
       "      <td>0</td>\n",
       "      <td>0</td>\n",
       "      <td>0</td>\n",
       "      <td>0</td>\n",
       "      <td>0</td>\n",
       "      <td>0</td>\n",
       "      <td>0</td>\n",
       "      <td>0</td>\n",
       "      <td>0</td>\n",
       "      <td>0</td>\n",
       "    </tr>\n",
       "    <tr>\n",
       "      <th>3147</th>\n",
       "      <td>1</td>\n",
       "      <td>0</td>\n",
       "      <td>0</td>\n",
       "      <td>0</td>\n",
       "      <td>0</td>\n",
       "      <td>0</td>\n",
       "      <td>0</td>\n",
       "      <td>0</td>\n",
       "      <td>0</td>\n",
       "      <td>0</td>\n",
       "      <td>...</td>\n",
       "      <td>0</td>\n",
       "      <td>0</td>\n",
       "      <td>0</td>\n",
       "      <td>0</td>\n",
       "      <td>0</td>\n",
       "      <td>0</td>\n",
       "      <td>0</td>\n",
       "      <td>0</td>\n",
       "      <td>0</td>\n",
       "      <td>0</td>\n",
       "    </tr>\n",
       "    <tr>\n",
       "      <th>3148</th>\n",
       "      <td>0</td>\n",
       "      <td>0</td>\n",
       "      <td>0</td>\n",
       "      <td>0</td>\n",
       "      <td>0</td>\n",
       "      <td>0</td>\n",
       "      <td>0</td>\n",
       "      <td>0</td>\n",
       "      <td>0</td>\n",
       "      <td>0</td>\n",
       "      <td>...</td>\n",
       "      <td>0</td>\n",
       "      <td>0</td>\n",
       "      <td>0</td>\n",
       "      <td>0</td>\n",
       "      <td>0</td>\n",
       "      <td>0</td>\n",
       "      <td>0</td>\n",
       "      <td>0</td>\n",
       "      <td>0</td>\n",
       "      <td>0</td>\n",
       "    </tr>\n",
       "    <tr>\n",
       "      <th>3149</th>\n",
       "      <td>1</td>\n",
       "      <td>0</td>\n",
       "      <td>0</td>\n",
       "      <td>0</td>\n",
       "      <td>0</td>\n",
       "      <td>0</td>\n",
       "      <td>0</td>\n",
       "      <td>0</td>\n",
       "      <td>0</td>\n",
       "      <td>0</td>\n",
       "      <td>...</td>\n",
       "      <td>0</td>\n",
       "      <td>0</td>\n",
       "      <td>0</td>\n",
       "      <td>0</td>\n",
       "      <td>0</td>\n",
       "      <td>0</td>\n",
       "      <td>0</td>\n",
       "      <td>0</td>\n",
       "      <td>0</td>\n",
       "      <td>0</td>\n",
       "    </tr>\n",
       "  </tbody>\n",
       "</table>\n",
       "<p>3150 rows × 5226 columns</p>\n",
       "</div>"
      ],
      "text/plain": [
       "      Black  Dot  Black  Plus  Black  Show  Black  Spot  Charcoal Fabric   \\\n",
       "0              0            0            0            0                 1   \n",
       "1              0            0            0            0                 1   \n",
       "2              0            0            0            0                 0   \n",
       "3              0            0            0            0                 1   \n",
       "4              0            0            0            0                 1   \n",
       "...          ...          ...          ...          ...               ...   \n",
       "3145           1            0            0            0                 0   \n",
       "3146           1            0            0            0                 0   \n",
       "3147           1            0            0            0                 0   \n",
       "3148           0            0            0            0                 0   \n",
       "3149           1            0            0            0                 0   \n",
       "\n",
       "      Configuration: Fire TV Stick  Heather Gray Fabric   Oak Finish   \\\n",
       "0                                0                     0            0   \n",
       "1                                0                     0            0   \n",
       "2                                0                     0            0   \n",
       "3                                0                     0            0   \n",
       "4                                0                     0            0   \n",
       "...                            ...                   ...          ...   \n",
       "3145                             0                     0            0   \n",
       "3146                             0                     0            0   \n",
       "3147                             0                     0            0   \n",
       "3148                             0                     0            0   \n",
       "3149                             0                     0            0   \n",
       "\n",
       "      Sandstone Fabric   Walnut Finish   ...  5201  5202  5203  5204  5205  \\\n",
       "0                     0               0  ...     0     0     0     0     0   \n",
       "1                     0               0  ...     0     0     0     0     0   \n",
       "2                     0               1  ...     0     0     0     0     0   \n",
       "3                     0               0  ...     0     0     0     0     0   \n",
       "4                     0               0  ...     0     0     0     0     0   \n",
       "...                 ...             ...  ...   ...   ...   ...   ...   ...   \n",
       "3145                  0               0  ...     0     0     0     0     0   \n",
       "3146                  0               0  ...     0     0     0     0     0   \n",
       "3147                  0               0  ...     0     0     0     0     0   \n",
       "3148                  0               0  ...     0     0     0     0     0   \n",
       "3149                  0               0  ...     0     0     0     0     0   \n",
       "\n",
       "      5206  5207  5208  5209  5210  \n",
       "0        0     0     0     0     0  \n",
       "1        0     0     0     0     0  \n",
       "2        0     0     0     0     0  \n",
       "3        0     0     0     0     0  \n",
       "4        0     0     0     0     0  \n",
       "...    ...   ...   ...   ...   ...  \n",
       "3145     0     0     0     0     0  \n",
       "3146     0     0     0     0     0  \n",
       "3147     0     0     0     0     0  \n",
       "3148     0     0     0     0     0  \n",
       "3149     0     0     0     0     0  \n",
       "\n",
       "[3150 rows x 5226 columns]"
      ]
     },
     "execution_count": 53,
     "metadata": {},
     "output_type": "execute_result"
    }
   ],
   "source": [
    "X"
   ]
  },
  {
   "cell_type": "code",
   "execution_count": 52,
   "metadata": {},
   "outputs": [],
   "source": [
    "y = data_reviews['feedback']"
   ]
  },
  {
   "cell_type": "code",
   "execution_count": 54,
   "metadata": {
    "scrolled": true
   },
   "outputs": [
    {
     "data": {
      "text/plain": [
       "0       1\n",
       "1       1\n",
       "2       1\n",
       "3       1\n",
       "4       1\n",
       "       ..\n",
       "3145    1\n",
       "3146    1\n",
       "3147    1\n",
       "3148    1\n",
       "3149    1\n",
       "Name: feedback, Length: 3150, dtype: int64"
      ]
     },
     "execution_count": 54,
     "metadata": {},
     "output_type": "execute_result"
    }
   ],
   "source": [
    "y"
   ]
  },
  {
   "cell_type": "markdown",
   "metadata": {},
   "source": [
    "# Train-Test Split"
   ]
  },
  {
   "cell_type": "code",
   "execution_count": 55,
   "metadata": {},
   "outputs": [],
   "source": [
    "from sklearn.model_selection import train_test_split\n",
    "X_train, X_test, y_train, y_test = train_test_split(X, y, test_size=0.2)"
   ]
  },
  {
   "cell_type": "markdown",
   "metadata": {},
   "source": [
    "## Train Naive Bayes Classifier Model"
   ]
  },
  {
   "cell_type": "code",
   "execution_count": 56,
   "metadata": {},
   "outputs": [
    {
     "data": {
      "text/plain": [
       "MultinomialNB(alpha=1.0, class_prior=None, fit_prior=True)"
      ]
     },
     "execution_count": 56,
     "metadata": {},
     "output_type": "execute_result"
    }
   ],
   "source": [
    "from sklearn.naive_bayes import MultinomialNB\n",
    "\n",
    "NB_classifier = MultinomialNB()\n",
    "NB_classifier.fit(X_train, y_train)"
   ]
  },
  {
   "cell_type": "markdown",
   "metadata": {},
   "source": [
    "## Assess Model Performance"
   ]
  },
  {
   "cell_type": "code",
   "execution_count": 57,
   "metadata": {},
   "outputs": [
    {
     "data": {
      "text/plain": [
       "0.9365079365079365"
      ]
     },
     "execution_count": 57,
     "metadata": {},
     "output_type": "execute_result"
    }
   ],
   "source": [
    "NB_classifier.score(X_test, y_test)"
   ]
  },
  {
   "cell_type": "code",
   "execution_count": 59,
   "metadata": {},
   "outputs": [],
   "source": [
    "predicted = NB_classifier.predict(X_test)"
   ]
  },
  {
   "cell_type": "code",
   "execution_count": 60,
   "metadata": {},
   "outputs": [],
   "source": [
    "from sklearn.metrics import classification_report, confusion_matrix"
   ]
  },
  {
   "cell_type": "code",
   "execution_count": 61,
   "metadata": {},
   "outputs": [],
   "source": [
    "cm = confusion_matrix(y_test, predicted)"
   ]
  },
  {
   "cell_type": "code",
   "execution_count": 64,
   "metadata": {},
   "outputs": [
    {
     "data": {
      "text/plain": [
       "<matplotlib.axes._subplots.AxesSubplot at 0x2c2e38030b8>"
      ]
     },
     "execution_count": 64,
     "metadata": {},
     "output_type": "execute_result"
    },
    {
     "data": {
      "image/png": "[encoded data removed]",
      "text/plain": [
       "<Figure size 864x504 with 2 Axes>"
      ]
     },
     "metadata": {
      "needs_background": "light"
     },
     "output_type": "display_data"
    }
   ],
   "source": [
    "sns.heatmap(cm, annot=True, fmt='g')"
   ]
  },
  {
   "cell_type": "code",
   "execution_count": 65,
   "metadata": {},
   "outputs": [],
   "source": [
    "cr = classification_report(y_test, predicted)"
   ]
  },
  {
   "cell_type": "code",
   "execution_count": 68,
   "metadata": {},
   "outputs": [
    {
     "name": "stdout",
     "output_type": "stream",
     "text": [
      "              precision    recall  f1-score   support\n",
      "\n",
      "           0       0.62      0.44      0.51        48\n",
      "           1       0.95      0.98      0.97       582\n",
      "\n",
      "    accuracy                           0.94       630\n",
      "   macro avg       0.79      0.71      0.74       630\n",
      "weighted avg       0.93      0.94      0.93       630\n",
      "\n"
     ]
    }
   ],
   "source": [
    "print(cr)"
   ]
  }
 ],
 "metadata": {
  "kernelspec": {
   "display_name": "Python 3",
   "language": "python",
   "name": "python3"
  },
  "language_info": {
   "codemirror_mode": {
    "name": "ipython",
    "version": 3
   },
   "file_extension": ".py",
   "mimetype": "text/x-python",
   "name": "python",
   "nbconvert_exporter": "python",
   "pygments_lexer": "ipython3",
   "version": "3.6.9"
  }
 },
 "nbformat": 4,
 "nbformat_minor": 2
}
